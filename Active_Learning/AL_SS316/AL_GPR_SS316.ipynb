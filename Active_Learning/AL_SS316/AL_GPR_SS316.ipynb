{
 "cells": [
  {
   "cell_type": "code",
   "execution_count": 1,
   "metadata": {
    "executionInfo": {
     "elapsed": 2641,
     "status": "ok",
     "timestamp": 1692365393968,
     "user": {
      "displayName": "Aleksandar Vakanski",
      "userId": "07675307153279708378"
     },
     "user_tz": 360
    },
    "id": "U-CCBTEbmd13"
   },
   "outputs": [],
   "source": [
    "from pathlib import Path\n",
    "import pandas as pd\n",
    "import sys\n",
    "import numpy as np\n",
    "from sklearn.preprocessing import StandardScaler\n",
    "from sklearn.model_selection import train_test_split\n",
    "from sklearn.gaussian_process import GaussianProcessRegressor\n",
    "from sklearn.gaussian_process.kernels import (RBF, ConstantKernel as C,\n",
    "                                              Matern, WhiteKernel, DotProduct)\n",
    "from sklearn.metrics import pairwise_distances, mean_squared_error,r2_score, mean_absolute_percentage_error\n",
    "from sklearn.decomposition import PCA\n",
    "from scipy.stats import pearsonr\n",
    "from pathlib import Path\n",
    "from sklearn.cluster import KMeans\n",
    "import matplotlib.pyplot as plt"
   ]
  },
  {
   "cell_type": "code",
   "execution_count": 2,
   "metadata": {
    "colab": {
     "base_uri": "https://localhost:8080/",
     "height": 458
    },
    "executionInfo": {
     "elapsed": 15,
     "status": "ok",
     "timestamp": 1692365397855,
     "user": {
      "displayName": "Aleksandar Vakanski",
      "userId": "07675307153279708378"
     },
     "user_tz": 360
    },
    "id": "VkSZ6oKjmd18",
    "outputId": "5ea3ea82-ec5f-4c2f-a832-191f7bbc645e"
   },
   "outputs": [
    {
     "data": {
      "text/html": [
       "<div>\n",
       "<style scoped>\n",
       "    .dataframe tbody tr th:only-of-type {\n",
       "        vertical-align: middle;\n",
       "    }\n",
       "\n",
       "    .dataframe tbody tr th {\n",
       "        vertical-align: top;\n",
       "    }\n",
       "\n",
       "    .dataframe thead th {\n",
       "        text-align: right;\n",
       "    }\n",
       "</style>\n",
       "<table border=\"1\" class=\"dataframe\">\n",
       "  <thead>\n",
       "    <tr style=\"text-align: right;\">\n",
       "      <th></th>\n",
       "      <th>Material</th>\n",
       "      <th>C</th>\n",
       "      <th>Si</th>\n",
       "      <th>Mn</th>\n",
       "      <th>P</th>\n",
       "      <th>S</th>\n",
       "      <th>Ni</th>\n",
       "      <th>Cr</th>\n",
       "      <th>Mo</th>\n",
       "      <th>Cu</th>\n",
       "      <th>...</th>\n",
       "      <th>B</th>\n",
       "      <th>N</th>\n",
       "      <th>Nb+Ta</th>\n",
       "      <th>Elongation</th>\n",
       "      <th>Reduction of Area</th>\n",
       "      <th>Stress</th>\n",
       "      <th>Temperature</th>\n",
       "      <th>Stacking Fault Energy</th>\n",
       "      <th>Predicted Creep Life</th>\n",
       "      <th>Log Creep Life</th>\n",
       "    </tr>\n",
       "  </thead>\n",
       "  <tbody>\n",
       "    <tr>\n",
       "      <th>0</th>\n",
       "      <td>0.0</td>\n",
       "      <td>0.060</td>\n",
       "      <td>0.59</td>\n",
       "      <td>1.69</td>\n",
       "      <td>0.024</td>\n",
       "      <td>0.017</td>\n",
       "      <td>13.32</td>\n",
       "      <td>16.73</td>\n",
       "      <td>2.38</td>\n",
       "      <td>0.07</td>\n",
       "      <td>...</td>\n",
       "      <td>0.0010</td>\n",
       "      <td>0.0300</td>\n",
       "      <td>0.020</td>\n",
       "      <td>55.0</td>\n",
       "      <td>61</td>\n",
       "      <td>235</td>\n",
       "      <td>650</td>\n",
       "      <td>66.761225</td>\n",
       "      <td>1.438188</td>\n",
       "      <td>1.465383</td>\n",
       "    </tr>\n",
       "    <tr>\n",
       "      <th>1</th>\n",
       "      <td>1.0</td>\n",
       "      <td>0.050</td>\n",
       "      <td>0.52</td>\n",
       "      <td>1.51</td>\n",
       "      <td>0.021</td>\n",
       "      <td>0.010</td>\n",
       "      <td>13.21</td>\n",
       "      <td>16.42</td>\n",
       "      <td>2.34</td>\n",
       "      <td>0.14</td>\n",
       "      <td>...</td>\n",
       "      <td>0.0005</td>\n",
       "      <td>0.0340</td>\n",
       "      <td>0.010</td>\n",
       "      <td>68.0</td>\n",
       "      <td>78</td>\n",
       "      <td>157</td>\n",
       "      <td>700</td>\n",
       "      <td>66.602514</td>\n",
       "      <td>1.428500</td>\n",
       "      <td>1.537819</td>\n",
       "    </tr>\n",
       "    <tr>\n",
       "      <th>2</th>\n",
       "      <td>7.0</td>\n",
       "      <td>0.060</td>\n",
       "      <td>0.52</td>\n",
       "      <td>1.60</td>\n",
       "      <td>0.025</td>\n",
       "      <td>0.007</td>\n",
       "      <td>13.30</td>\n",
       "      <td>16.70</td>\n",
       "      <td>2.25</td>\n",
       "      <td>0.24</td>\n",
       "      <td>...</td>\n",
       "      <td>0.0008</td>\n",
       "      <td>0.0318</td>\n",
       "      <td>0.010</td>\n",
       "      <td>72.0</td>\n",
       "      <td>77</td>\n",
       "      <td>235</td>\n",
       "      <td>650</td>\n",
       "      <td>65.227932</td>\n",
       "      <td>1.471625</td>\n",
       "      <td>1.588832</td>\n",
       "    </tr>\n",
       "    <tr>\n",
       "      <th>3</th>\n",
       "      <td>18.0</td>\n",
       "      <td>0.012</td>\n",
       "      <td>0.56</td>\n",
       "      <td>0.81</td>\n",
       "      <td>0.024</td>\n",
       "      <td>0.004</td>\n",
       "      <td>10.67</td>\n",
       "      <td>16.39</td>\n",
       "      <td>2.11</td>\n",
       "      <td>0.27</td>\n",
       "      <td>...</td>\n",
       "      <td>0.0010</td>\n",
       "      <td>0.0810</td>\n",
       "      <td>0.001</td>\n",
       "      <td>106.0</td>\n",
       "      <td>80</td>\n",
       "      <td>177</td>\n",
       "      <td>700</td>\n",
       "      <td>58.700152</td>\n",
       "      <td>1.575937</td>\n",
       "      <td>1.591065</td>\n",
       "    </tr>\n",
       "    <tr>\n",
       "      <th>4</th>\n",
       "      <td>8.0</td>\n",
       "      <td>0.060</td>\n",
       "      <td>0.52</td>\n",
       "      <td>1.58</td>\n",
       "      <td>0.025</td>\n",
       "      <td>0.007</td>\n",
       "      <td>13.60</td>\n",
       "      <td>16.60</td>\n",
       "      <td>2.31</td>\n",
       "      <td>0.26</td>\n",
       "      <td>...</td>\n",
       "      <td>0.0007</td>\n",
       "      <td>0.0224</td>\n",
       "      <td>0.010</td>\n",
       "      <td>75.0</td>\n",
       "      <td>83</td>\n",
       "      <td>157</td>\n",
       "      <td>700</td>\n",
       "      <td>66.624772</td>\n",
       "      <td>1.566875</td>\n",
       "      <td>1.604226</td>\n",
       "    </tr>\n",
       "    <tr>\n",
       "      <th>...</th>\n",
       "      <td>...</td>\n",
       "      <td>...</td>\n",
       "      <td>...</td>\n",
       "      <td>...</td>\n",
       "      <td>...</td>\n",
       "      <td>...</td>\n",
       "      <td>...</td>\n",
       "      <td>...</td>\n",
       "      <td>...</td>\n",
       "      <td>...</td>\n",
       "      <td>...</td>\n",
       "      <td>...</td>\n",
       "      <td>...</td>\n",
       "      <td>...</td>\n",
       "      <td>...</td>\n",
       "      <td>...</td>\n",
       "      <td>...</td>\n",
       "      <td>...</td>\n",
       "      <td>...</td>\n",
       "      <td>...</td>\n",
       "      <td>...</td>\n",
       "    </tr>\n",
       "    <tr>\n",
       "      <th>612</th>\n",
       "      <td>7.0</td>\n",
       "      <td>0.060</td>\n",
       "      <td>0.52</td>\n",
       "      <td>1.60</td>\n",
       "      <td>0.025</td>\n",
       "      <td>0.007</td>\n",
       "      <td>13.30</td>\n",
       "      <td>16.70</td>\n",
       "      <td>2.25</td>\n",
       "      <td>0.24</td>\n",
       "      <td>...</td>\n",
       "      <td>0.0008</td>\n",
       "      <td>0.0318</td>\n",
       "      <td>0.010</td>\n",
       "      <td>41.0</td>\n",
       "      <td>55</td>\n",
       "      <td>118</td>\n",
       "      <td>600</td>\n",
       "      <td>65.227932</td>\n",
       "      <td>5.178750</td>\n",
       "      <td>5.152857</td>\n",
       "    </tr>\n",
       "    <tr>\n",
       "      <th>613</th>\n",
       "      <td>6.0</td>\n",
       "      <td>0.070</td>\n",
       "      <td>0.61</td>\n",
       "      <td>1.65</td>\n",
       "      <td>0.025</td>\n",
       "      <td>0.007</td>\n",
       "      <td>13.60</td>\n",
       "      <td>16.60</td>\n",
       "      <td>2.33</td>\n",
       "      <td>0.26</td>\n",
       "      <td>...</td>\n",
       "      <td>0.0011</td>\n",
       "      <td>0.0250</td>\n",
       "      <td>0.010</td>\n",
       "      <td>26.0</td>\n",
       "      <td>39</td>\n",
       "      <td>108</td>\n",
       "      <td>600</td>\n",
       "      <td>66.647083</td>\n",
       "      <td>5.289000</td>\n",
       "      <td>5.184004</td>\n",
       "    </tr>\n",
       "    <tr>\n",
       "      <th>614</th>\n",
       "      <td>2.0</td>\n",
       "      <td>0.050</td>\n",
       "      <td>0.71</td>\n",
       "      <td>1.52</td>\n",
       "      <td>0.022</td>\n",
       "      <td>0.013</td>\n",
       "      <td>13.50</td>\n",
       "      <td>17.50</td>\n",
       "      <td>2.28</td>\n",
       "      <td>0.17</td>\n",
       "      <td>...</td>\n",
       "      <td>0.0013</td>\n",
       "      <td>0.0350</td>\n",
       "      <td>0.020</td>\n",
       "      <td>28.0</td>\n",
       "      <td>37</td>\n",
       "      <td>108</td>\n",
       "      <td>600</td>\n",
       "      <td>64.234884</td>\n",
       "      <td>5.247063</td>\n",
       "      <td>5.240086</td>\n",
       "    </tr>\n",
       "    <tr>\n",
       "      <th>615</th>\n",
       "      <td>6.0</td>\n",
       "      <td>0.070</td>\n",
       "      <td>0.61</td>\n",
       "      <td>1.65</td>\n",
       "      <td>0.025</td>\n",
       "      <td>0.007</td>\n",
       "      <td>13.60</td>\n",
       "      <td>16.60</td>\n",
       "      <td>2.33</td>\n",
       "      <td>0.26</td>\n",
       "      <td>...</td>\n",
       "      <td>0.0011</td>\n",
       "      <td>0.0250</td>\n",
       "      <td>0.010</td>\n",
       "      <td>25.0</td>\n",
       "      <td>23</td>\n",
       "      <td>41</td>\n",
       "      <td>700</td>\n",
       "      <td>66.647083</td>\n",
       "      <td>5.353813</td>\n",
       "      <td>5.250884</td>\n",
       "    </tr>\n",
       "    <tr>\n",
       "      <th>616</th>\n",
       "      <td>6.0</td>\n",
       "      <td>0.070</td>\n",
       "      <td>0.61</td>\n",
       "      <td>1.65</td>\n",
       "      <td>0.025</td>\n",
       "      <td>0.007</td>\n",
       "      <td>13.60</td>\n",
       "      <td>16.60</td>\n",
       "      <td>2.33</td>\n",
       "      <td>0.26</td>\n",
       "      <td>...</td>\n",
       "      <td>0.0011</td>\n",
       "      <td>0.0250</td>\n",
       "      <td>0.010</td>\n",
       "      <td>14.0</td>\n",
       "      <td>22</td>\n",
       "      <td>41</td>\n",
       "      <td>700</td>\n",
       "      <td>66.647083</td>\n",
       "      <td>5.353813</td>\n",
       "      <td>5.347731</td>\n",
       "    </tr>\n",
       "  </tbody>\n",
       "</table>\n",
       "<p>617 rows × 22 columns</p>\n",
       "</div>"
      ],
      "text/plain": [
       "     Material      C    Si    Mn      P      S     Ni     Cr    Mo    Cu  ...  \\\n",
       "0         0.0  0.060  0.59  1.69  0.024  0.017  13.32  16.73  2.38  0.07  ...   \n",
       "1         1.0  0.050  0.52  1.51  0.021  0.010  13.21  16.42  2.34  0.14  ...   \n",
       "2         7.0  0.060  0.52  1.60  0.025  0.007  13.30  16.70  2.25  0.24  ...   \n",
       "3        18.0  0.012  0.56  0.81  0.024  0.004  10.67  16.39  2.11  0.27  ...   \n",
       "4         8.0  0.060  0.52  1.58  0.025  0.007  13.60  16.60  2.31  0.26  ...   \n",
       "..        ...    ...   ...   ...    ...    ...    ...    ...   ...   ...  ...   \n",
       "612       7.0  0.060  0.52  1.60  0.025  0.007  13.30  16.70  2.25  0.24  ...   \n",
       "613       6.0  0.070  0.61  1.65  0.025  0.007  13.60  16.60  2.33  0.26  ...   \n",
       "614       2.0  0.050  0.71  1.52  0.022  0.013  13.50  17.50  2.28  0.17  ...   \n",
       "615       6.0  0.070  0.61  1.65  0.025  0.007  13.60  16.60  2.33  0.26  ...   \n",
       "616       6.0  0.070  0.61  1.65  0.025  0.007  13.60  16.60  2.33  0.26  ...   \n",
       "\n",
       "          B       N  Nb+Ta  Elongation  Reduction of Area  Stress  \\\n",
       "0    0.0010  0.0300  0.020        55.0                 61     235   \n",
       "1    0.0005  0.0340  0.010        68.0                 78     157   \n",
       "2    0.0008  0.0318  0.010        72.0                 77     235   \n",
       "3    0.0010  0.0810  0.001       106.0                 80     177   \n",
       "4    0.0007  0.0224  0.010        75.0                 83     157   \n",
       "..      ...     ...    ...         ...                ...     ...   \n",
       "612  0.0008  0.0318  0.010        41.0                 55     118   \n",
       "613  0.0011  0.0250  0.010        26.0                 39     108   \n",
       "614  0.0013  0.0350  0.020        28.0                 37     108   \n",
       "615  0.0011  0.0250  0.010        25.0                 23      41   \n",
       "616  0.0011  0.0250  0.010        14.0                 22      41   \n",
       "\n",
       "     Temperature  Stacking Fault Energy  Predicted Creep Life  Log Creep Life  \n",
       "0            650              66.761225              1.438188        1.465383  \n",
       "1            700              66.602514              1.428500        1.537819  \n",
       "2            650              65.227932              1.471625        1.588832  \n",
       "3            700              58.700152              1.575937        1.591065  \n",
       "4            700              66.624772              1.566875        1.604226  \n",
       "..           ...                    ...                   ...             ...  \n",
       "612          600              65.227932              5.178750        5.152857  \n",
       "613          600              66.647083              5.289000        5.184004  \n",
       "614          600              64.234884              5.247063        5.240086  \n",
       "615          700              66.647083              5.353813        5.250884  \n",
       "616          700              66.647083              5.353813        5.347731  \n",
       "\n",
       "[617 rows x 22 columns]"
      ]
     },
     "execution_count": 2,
     "metadata": {},
     "output_type": "execute_result"
    }
   ],
   "source": [
    "creep_df = pd.read_csv('SS316_PI_dataset.csv')\n",
    "creep_df"
   ]
  },
  {
   "cell_type": "code",
   "execution_count": 3,
   "metadata": {
    "colab": {
     "base_uri": "https://localhost:8080/",
     "height": 206
    },
    "executionInfo": {
     "elapsed": 240,
     "status": "ok",
     "timestamp": 1692365398086,
     "user": {
      "displayName": "Aleksandar Vakanski",
      "userId": "07675307153279708378"
     },
     "user_tz": 360
    },
    "id": "cIEsDTjIYZYO",
    "outputId": "eb51b9d2-def1-47ed-eacd-352a18389e24"
   },
   "outputs": [
    {
     "data": {
      "text/html": [
       "<div>\n",
       "<style scoped>\n",
       "    .dataframe tbody tr th:only-of-type {\n",
       "        vertical-align: middle;\n",
       "    }\n",
       "\n",
       "    .dataframe tbody tr th {\n",
       "        vertical-align: top;\n",
       "    }\n",
       "\n",
       "    .dataframe thead th {\n",
       "        text-align: right;\n",
       "    }\n",
       "</style>\n",
       "<table border=\"1\" class=\"dataframe\">\n",
       "  <thead>\n",
       "    <tr style=\"text-align: right;\">\n",
       "      <th></th>\n",
       "      <th>Material</th>\n",
       "      <th>C</th>\n",
       "      <th>Si</th>\n",
       "      <th>Mn</th>\n",
       "      <th>P</th>\n",
       "      <th>S</th>\n",
       "      <th>Ni</th>\n",
       "      <th>Cr</th>\n",
       "      <th>Mo</th>\n",
       "      <th>Cu</th>\n",
       "      <th>Ti</th>\n",
       "      <th>Al</th>\n",
       "      <th>B</th>\n",
       "      <th>N</th>\n",
       "      <th>Nb+Ta</th>\n",
       "      <th>Elongation</th>\n",
       "      <th>Reduction of Area</th>\n",
       "      <th>Stress</th>\n",
       "      <th>Temperature</th>\n",
       "      <th>Log Creep Life</th>\n",
       "    </tr>\n",
       "  </thead>\n",
       "  <tbody>\n",
       "    <tr>\n",
       "      <th>0</th>\n",
       "      <td>0.0</td>\n",
       "      <td>0.060</td>\n",
       "      <td>0.59</td>\n",
       "      <td>1.69</td>\n",
       "      <td>0.024</td>\n",
       "      <td>0.017</td>\n",
       "      <td>13.32</td>\n",
       "      <td>16.73</td>\n",
       "      <td>2.38</td>\n",
       "      <td>0.07</td>\n",
       "      <td>0.0110</td>\n",
       "      <td>0.015</td>\n",
       "      <td>0.0010</td>\n",
       "      <td>0.0300</td>\n",
       "      <td>0.020</td>\n",
       "      <td>55.0</td>\n",
       "      <td>61</td>\n",
       "      <td>235</td>\n",
       "      <td>650</td>\n",
       "      <td>1.465383</td>\n",
       "    </tr>\n",
       "    <tr>\n",
       "      <th>1</th>\n",
       "      <td>1.0</td>\n",
       "      <td>0.050</td>\n",
       "      <td>0.52</td>\n",
       "      <td>1.51</td>\n",
       "      <td>0.021</td>\n",
       "      <td>0.010</td>\n",
       "      <td>13.21</td>\n",
       "      <td>16.42</td>\n",
       "      <td>2.34</td>\n",
       "      <td>0.14</td>\n",
       "      <td>0.0110</td>\n",
       "      <td>0.018</td>\n",
       "      <td>0.0005</td>\n",
       "      <td>0.0340</td>\n",
       "      <td>0.010</td>\n",
       "      <td>68.0</td>\n",
       "      <td>78</td>\n",
       "      <td>157</td>\n",
       "      <td>700</td>\n",
       "      <td>1.537819</td>\n",
       "    </tr>\n",
       "    <tr>\n",
       "      <th>2</th>\n",
       "      <td>7.0</td>\n",
       "      <td>0.060</td>\n",
       "      <td>0.52</td>\n",
       "      <td>1.60</td>\n",
       "      <td>0.025</td>\n",
       "      <td>0.007</td>\n",
       "      <td>13.30</td>\n",
       "      <td>16.70</td>\n",
       "      <td>2.25</td>\n",
       "      <td>0.24</td>\n",
       "      <td>0.0600</td>\n",
       "      <td>0.020</td>\n",
       "      <td>0.0008</td>\n",
       "      <td>0.0318</td>\n",
       "      <td>0.010</td>\n",
       "      <td>72.0</td>\n",
       "      <td>77</td>\n",
       "      <td>235</td>\n",
       "      <td>650</td>\n",
       "      <td>1.588832</td>\n",
       "    </tr>\n",
       "    <tr>\n",
       "      <th>3</th>\n",
       "      <td>18.0</td>\n",
       "      <td>0.012</td>\n",
       "      <td>0.56</td>\n",
       "      <td>0.81</td>\n",
       "      <td>0.024</td>\n",
       "      <td>0.004</td>\n",
       "      <td>10.67</td>\n",
       "      <td>16.39</td>\n",
       "      <td>2.11</td>\n",
       "      <td>0.27</td>\n",
       "      <td>0.0006</td>\n",
       "      <td>0.011</td>\n",
       "      <td>0.0010</td>\n",
       "      <td>0.0810</td>\n",
       "      <td>0.001</td>\n",
       "      <td>106.0</td>\n",
       "      <td>80</td>\n",
       "      <td>177</td>\n",
       "      <td>700</td>\n",
       "      <td>1.591065</td>\n",
       "    </tr>\n",
       "    <tr>\n",
       "      <th>4</th>\n",
       "      <td>8.0</td>\n",
       "      <td>0.060</td>\n",
       "      <td>0.52</td>\n",
       "      <td>1.58</td>\n",
       "      <td>0.025</td>\n",
       "      <td>0.007</td>\n",
       "      <td>13.60</td>\n",
       "      <td>16.60</td>\n",
       "      <td>2.31</td>\n",
       "      <td>0.26</td>\n",
       "      <td>0.0290</td>\n",
       "      <td>0.021</td>\n",
       "      <td>0.0007</td>\n",
       "      <td>0.0224</td>\n",
       "      <td>0.010</td>\n",
       "      <td>75.0</td>\n",
       "      <td>83</td>\n",
       "      <td>157</td>\n",
       "      <td>700</td>\n",
       "      <td>1.604226</td>\n",
       "    </tr>\n",
       "  </tbody>\n",
       "</table>\n",
       "</div>"
      ],
      "text/plain": [
       "   Material      C    Si    Mn      P      S     Ni     Cr    Mo    Cu  \\\n",
       "0       0.0  0.060  0.59  1.69  0.024  0.017  13.32  16.73  2.38  0.07   \n",
       "1       1.0  0.050  0.52  1.51  0.021  0.010  13.21  16.42  2.34  0.14   \n",
       "2       7.0  0.060  0.52  1.60  0.025  0.007  13.30  16.70  2.25  0.24   \n",
       "3      18.0  0.012  0.56  0.81  0.024  0.004  10.67  16.39  2.11  0.27   \n",
       "4       8.0  0.060  0.52  1.58  0.025  0.007  13.60  16.60  2.31  0.26   \n",
       "\n",
       "       Ti     Al       B       N  Nb+Ta  Elongation  Reduction of Area  \\\n",
       "0  0.0110  0.015  0.0010  0.0300  0.020        55.0                 61   \n",
       "1  0.0110  0.018  0.0005  0.0340  0.010        68.0                 78   \n",
       "2  0.0600  0.020  0.0008  0.0318  0.010        72.0                 77   \n",
       "3  0.0006  0.011  0.0010  0.0810  0.001       106.0                 80   \n",
       "4  0.0290  0.021  0.0007  0.0224  0.010        75.0                 83   \n",
       "\n",
       "   Stress  Temperature  Log Creep Life  \n",
       "0     235          650        1.465383  \n",
       "1     157          700        1.537819  \n",
       "2     235          650        1.588832  \n",
       "3     177          700        1.591065  \n",
       "4     157          700        1.604226  "
      ]
     },
     "execution_count": 3,
     "metadata": {},
     "output_type": "execute_result"
    }
   ],
   "source": [
    "creep_df = creep_df.drop(columns=['Stacking Fault Energy', 'Predicted Creep Life'])\n",
    "creep_df.head()"
   ]
  },
  {
   "cell_type": "code",
   "execution_count": 4,
   "metadata": {
    "executionInfo": {
     "elapsed": 25,
     "status": "ok",
     "timestamp": 1692365398086,
     "user": {
      "displayName": "Aleksandar Vakanski",
      "userId": "07675307153279708378"
     },
     "user_tz": 360
    },
    "id": "-ct7_qBnqguF"
   },
   "outputs": [],
   "source": [
    "rm_state = 123\n",
    "test_size = 0.6\n",
    "\n",
    "X, X_test, y, y_test = train_test_split(np.array(creep_df.iloc[:, 0:19]), np.array(creep_df.iloc[:,19]), shuffle=True, test_size=test_size, random_state=rm_state)"
   ]
  },
  {
   "cell_type": "code",
   "execution_count": 5,
   "metadata": {
    "colab": {
     "base_uri": "https://localhost:8080/"
    },
    "executionInfo": {
     "elapsed": 25,
     "status": "ok",
     "timestamp": 1692365398087,
     "user": {
      "displayName": "Aleksandar Vakanski",
      "userId": "07675307153279708378"
     },
     "user_tz": 360
    },
    "id": "4hxEtOZYqvjY",
    "outputId": "c782e75b-5e48-4084-8b40-87de70a85376"
   },
   "outputs": [
    {
     "name": "stdout",
     "output_type": "stream",
     "text": [
      "(246, 19)\n",
      "(371, 19)\n",
      "(246,)\n",
      "(371,)\n"
     ]
    }
   ],
   "source": [
    "print(X.shape)\n",
    "print(X_test.shape)\n",
    "print(y.shape)\n",
    "print(y_test.shape)"
   ]
  },
  {
   "cell_type": "code",
   "execution_count": 6,
   "metadata": {
    "executionInfo": {
     "elapsed": 20,
     "status": "ok",
     "timestamp": 1692365398087,
     "user": {
      "displayName": "Aleksandar Vakanski",
      "userId": "07675307153279708378"
     },
     "user_tz": 360
    },
    "id": "pn330ki8rGq5"
   },
   "outputs": [],
   "source": [
    "idx = np.arange(len(y))"
   ]
  },
  {
   "cell_type": "code",
   "execution_count": 7,
   "metadata": {
    "colab": {
     "base_uri": "https://localhost:8080/"
    },
    "executionInfo": {
     "elapsed": 20,
     "status": "ok",
     "timestamp": 1692365398088,
     "user": {
      "displayName": "Aleksandar Vakanski",
      "userId": "07675307153279708378"
     },
     "user_tz": 360
    },
    "id": "Nr-05z5VrKTW",
    "outputId": "aec7056f-69da-4306-a486-b3b9304d0db5"
   },
   "outputs": [
    {
     "data": {
      "text/plain": [
       "246"
      ]
     },
     "execution_count": 7,
     "metadata": {},
     "output_type": "execute_result"
    }
   ],
   "source": [
    "len(idx)"
   ]
  },
  {
   "cell_type": "code",
   "execution_count": 8,
   "metadata": {
    "executionInfo": {
     "elapsed": 16,
     "status": "ok",
     "timestamp": 1692365398088,
     "user": {
      "displayName": "Aleksandar Vakanski",
      "userId": "07675307153279708378"
     },
     "user_tz": 360
    },
    "id": "9VIwK8zHntoc"
   },
   "outputs": [],
   "source": [
    "train_ratio = 0.1\n",
    "\n",
    "X_train, _, y_train, _, idx_train, idx_pool = train_test_split(X, y, idx, train_size=train_ratio, shuffle=True, random_state=rm_state)"
   ]
  },
  {
   "cell_type": "code",
   "execution_count": 9,
   "metadata": {
    "colab": {
     "base_uri": "https://localhost:8080/"
    },
    "executionInfo": {
     "elapsed": 15,
     "status": "ok",
     "timestamp": 1692365398089,
     "user": {
      "displayName": "Aleksandar Vakanski",
      "userId": "07675307153279708378"
     },
     "user_tz": 360
    },
    "id": "GMNlSasUoy-U",
    "outputId": "5f13d88f-f043-483a-f570-13c2506337ee"
   },
   "outputs": [
    {
     "name": "stdout",
     "output_type": "stream",
     "text": [
      "(24, 19)\n",
      "(24,)\n"
     ]
    }
   ],
   "source": [
    "print(X_train.shape)\n",
    "print(y_train.shape)"
   ]
  },
  {
   "cell_type": "code",
   "execution_count": 10,
   "metadata": {
    "colab": {
     "base_uri": "https://localhost:8080/"
    },
    "executionInfo": {
     "elapsed": 157,
     "status": "ok",
     "timestamp": 1692365398234,
     "user": {
      "displayName": "Aleksandar Vakanski",
      "userId": "07675307153279708378"
     },
     "user_tz": 360
    },
    "id": "wghyKRXHo4-c",
    "outputId": "40d41c91-0dce-4d0d-bd99-aff8029b5b6d"
   },
   "outputs": [
    {
     "name": "stdout",
     "output_type": "stream",
     "text": [
      "(24,)\n",
      "(222,)\n"
     ]
    }
   ],
   "source": [
    "print(idx_train.shape)\n",
    "print(idx_pool.shape)"
   ]
  },
  {
   "cell_type": "code",
   "execution_count": 11,
   "metadata": {
    "colab": {
     "base_uri": "https://localhost:8080/"
    },
    "executionInfo": {
     "elapsed": 269860,
     "status": "ok",
     "timestamp": 1692365668091,
     "user": {
      "displayName": "Aleksandar Vakanski",
      "userId": "07675307153279708378"
     },
     "user_tz": 360
    },
    "id": "viRcvO1ExRP3",
    "outputId": "a874ac4f-3efc-4314-9e88-9dfc03372ea9"
   },
   "outputs": [
    {
     "name": "stdout",
     "output_type": "stream",
     "text": [
      "Performing iteration : 0\n",
      "Number of training data with variance: 24\n",
      "Number of pooling data with variance: 222\n",
      "PCC_test 0.9395604536808678\n",
      "R2_test 0.8655798775522651\n",
      "RMSE 0.32964144431916387\n",
      "MAE 0.22859493677007148\n",
      "Performing iteration : 1\n",
      "Number of training data with variance: 34\n",
      "Number of pooling data with variance: 212\n",
      "PCC_test 0.9615041689707732\n",
      "R2_test 0.9186822997465037\n",
      "RMSE 0.2563906650772444\n",
      "MAE 0.19583827896080452\n",
      "Performing iteration : 2\n",
      "Number of training data with variance: 44\n",
      "Number of pooling data with variance: 202\n"
     ]
    },
    {
     "name": "stderr",
     "output_type": "stream",
     "text": [
      "c:\\Users\\L\\anaconda3\\envs\\tf-gpu\\lib\\site-packages\\sklearn\\gaussian_process\\kernels.py:420: ConvergenceWarning: The optimal value found for dimension 0 of parameter k2__k2__sigma_0 is close to the specified lower bound 1e-05. Decreasing the bound and calling fit again may find a better value.\n",
      "  warnings.warn(\n"
     ]
    },
    {
     "name": "stdout",
     "output_type": "stream",
     "text": [
      "PCC_test 0.9695595752300191\n",
      "R2_test 0.9389162076935736\n",
      "RMSE 0.22221463644590797\n",
      "MAE 0.1739707954165439\n",
      "Performing iteration : 3\n",
      "Number of training data with variance: 54\n",
      "Number of pooling data with variance: 192\n",
      "PCC_test 0.971018861894877\n",
      "R2_test 0.9374314917313973\n",
      "RMSE 0.22489902124858385\n",
      "MAE 0.1758269026768051\n",
      "Performing iteration : 4\n",
      "Number of training data with variance: 64\n",
      "Number of pooling data with variance: 182\n",
      "PCC_test 0.9716010434778848\n",
      "R2_test 0.9421861643190511\n",
      "RMSE 0.21618499986940945\n",
      "MAE 0.16964274955842842\n",
      "Performing iteration : 5\n",
      "Number of training data with variance: 74\n",
      "Number of pooling data with variance: 172\n",
      "PCC_test 0.9712040308547487\n",
      "R2_test 0.9423427513327903\n",
      "RMSE 0.21589203611897323\n",
      "MAE 0.17000558533962234\n",
      "Performing iteration : 6\n",
      "Number of training data with variance: 84\n",
      "Number of pooling data with variance: 162\n",
      "PCC_test 0.9722381544658099\n",
      "R2_test 0.9444779873968254\n",
      "RMSE 0.2118567302380544\n",
      "MAE 0.16605242776143572\n",
      "Performing iteration : 7\n",
      "Number of training data with variance: 94\n",
      "Number of pooling data with variance: 152\n"
     ]
    },
    {
     "name": "stderr",
     "output_type": "stream",
     "text": [
      "c:\\Users\\L\\anaconda3\\envs\\tf-gpu\\lib\\site-packages\\sklearn\\gaussian_process\\kernels.py:420: ConvergenceWarning: The optimal value found for dimension 0 of parameter k2__k1__constant_value is close to the specified lower bound 1e-05. Decreasing the bound and calling fit again may find a better value.\n",
      "  warnings.warn(\n"
     ]
    },
    {
     "name": "stdout",
     "output_type": "stream",
     "text": [
      "PCC_test 0.9797628115055691\n",
      "R2_test 0.9596550507561598\n",
      "RMSE 0.1805943885368601\n",
      "MAE 0.14217124632437522\n",
      "Performing iteration : 8\n",
      "Number of training data with variance: 104\n",
      "Number of pooling data with variance: 142\n",
      "PCC_test 0.9810091569259153\n",
      "R2_test 0.9623686523435646\n",
      "RMSE 0.1744152885454217\n",
      "MAE 0.13837187670997142\n",
      "Performing iteration : 9\n",
      "Number of training data with variance: 114\n",
      "Number of pooling data with variance: 132\n"
     ]
    },
    {
     "name": "stderr",
     "output_type": "stream",
     "text": [
      "c:\\Users\\L\\anaconda3\\envs\\tf-gpu\\lib\\site-packages\\sklearn\\gaussian_process\\kernels.py:420: ConvergenceWarning: The optimal value found for dimension 0 of parameter k2__k1__constant_value is close to the specified lower bound 1e-05. Decreasing the bound and calling fit again may find a better value.\n",
      "  warnings.warn(\n"
     ]
    },
    {
     "name": "stdout",
     "output_type": "stream",
     "text": [
      "PCC_test 0.9815951961814949\n",
      "R2_test 0.9634086739266976\n",
      "RMSE 0.17198823486843134\n",
      "MAE 0.1342575990462814\n",
      "Performing iteration : 10\n",
      "Number of training data with variance: 124\n",
      "Number of pooling data with variance: 122\n",
      "PCC_test 0.981806983173938\n",
      "R2_test 0.9638779918075026\n",
      "RMSE 0.1708817206475321\n",
      "MAE 0.1329344208196893\n",
      "Performing iteration : 11\n",
      "Number of training data with variance: 134\n",
      "Number of pooling data with variance: 112\n",
      "PCC_test 0.981675709450143\n",
      "R2_test 0.9636593321881168\n",
      "RMSE 0.17139814482344556\n",
      "MAE 0.1333061963592806\n",
      "Performing iteration : 12\n",
      "Number of training data with variance: 144\n",
      "Number of pooling data with variance: 102\n",
      "PCC_test 0.983606352441132\n",
      "R2_test 0.9673573585670935\n",
      "RMSE 0.16244349028373264\n",
      "MAE 0.12479544766585303\n",
      "Performing iteration : 13\n",
      "Number of training data with variance: 154\n",
      "Number of pooling data with variance: 92\n",
      "PCC_test 0.982833322778944\n",
      "R2_test 0.96556784607485\n",
      "RMSE 0.1668367651361164\n",
      "MAE 0.12857288203229245\n",
      "Performing iteration : 14\n",
      "Number of training data with variance: 164\n",
      "Number of pooling data with variance: 82\n",
      "PCC_test 0.9836621741517515\n",
      "R2_test 0.9672233542750652\n",
      "RMSE 0.16277657959750091\n",
      "MAE 0.12537189185715614\n",
      "Performing iteration : 15\n",
      "Number of training data with variance: 174\n",
      "Number of pooling data with variance: 72\n",
      "PCC_test 0.9838598288389653\n",
      "R2_test 0.9676013795937691\n",
      "RMSE 0.16183517573666403\n",
      "MAE 0.12448198699724292\n",
      "Performing iteration : 16\n",
      "Number of training data with variance: 184\n",
      "Number of pooling data with variance: 62\n",
      "PCC_test 0.9827519678146052\n",
      "R2_test 0.9654228772989389\n",
      "RMSE 0.16718761041836608\n",
      "MAE 0.12872810702426427\n",
      "Performing iteration : 17\n",
      "Number of training data with variance: 194\n",
      "Number of pooling data with variance: 52\n"
     ]
    },
    {
     "name": "stderr",
     "output_type": "stream",
     "text": [
      "c:\\Users\\L\\anaconda3\\envs\\tf-gpu\\lib\\site-packages\\sklearn\\gaussian_process\\kernels.py:420: ConvergenceWarning: The optimal value found for dimension 0 of parameter k2__k1__constant_value is close to the specified lower bound 1e-05. Decreasing the bound and calling fit again may find a better value.\n",
      "  warnings.warn(\n"
     ]
    },
    {
     "name": "stdout",
     "output_type": "stream",
     "text": [
      "PCC_test 0.9829316561978741\n",
      "R2_test 0.9656508614355709\n",
      "RMSE 0.16663552340741697\n",
      "MAE 0.1283743613843284\n",
      "Performing iteration : 18\n",
      "Number of training data with variance: 204\n",
      "Number of pooling data with variance: 42\n"
     ]
    },
    {
     "name": "stderr",
     "output_type": "stream",
     "text": [
      "c:\\Users\\L\\anaconda3\\envs\\tf-gpu\\lib\\site-packages\\sklearn\\gaussian_process\\kernels.py:420: ConvergenceWarning: The optimal value found for dimension 0 of parameter k2__k2__sigma_0 is close to the specified lower bound 1e-05. Decreasing the bound and calling fit again may find a better value.\n",
      "  warnings.warn(\n"
     ]
    },
    {
     "name": "stdout",
     "output_type": "stream",
     "text": [
      "PCC_test 0.984146855382046\n",
      "R2_test 0.9679227084404542\n",
      "RMSE 0.1610306369541619\n",
      "MAE 0.12369416964303956\n",
      "Performing iteration : 19\n",
      "Number of training data with variance: 214\n",
      "Number of pooling data with variance: 32\n",
      "PCC_test 0.9848482965156922\n",
      "R2_test 0.9692528041840186\n",
      "RMSE 0.1576566963607119\n",
      "MAE 0.12111893426055499\n"
     ]
    },
    {
     "name": "stderr",
     "output_type": "stream",
     "text": [
      "c:\\Users\\L\\anaconda3\\envs\\tf-gpu\\lib\\site-packages\\sklearn\\gaussian_process\\_gpr.py:629: ConvergenceWarning: lbfgs failed to converge (status=2):\n",
      "ABNORMAL_TERMINATION_IN_LNSRCH.\n",
      "\n",
      "Increase the number of iterations (max_iter) or scale the data as shown in:\n",
      "    https://scikit-learn.org/stable/modules/preprocessing.html\n",
      "  _check_optimize_result(\"lbfgs\", opt_res)\n"
     ]
    },
    {
     "data": {
      "text/plain": [
       "'\\n    # random sampling\\n    if i != 0:\\n        # select 10 random data points\\n        q_points_ran = np.random.choice(np.arange(len(idx_pool_ran)), size=10)\\n        # indices of those points in idx_pool\\n        idx_pool_train_ran = idx_pool_ran[q_points_ran]\\n\\n        idx_train_ran = np.append(idx_train_ran, idx_pool_train_ran)\\n        idx_pool_ran = np.delete(idx_pool_ran, q_points_ran)\\n        X_train_ran = X[idx_train_ran]\\n        y_train_ran = y[idx_train_ran]\\n\\n    print(f\"Number of training data with random: {len(idx_train_ran)}\")\\n    print(f\"Number of pooling data with random: {len(idx_pool_ran)}\")\\n\\n    model.fit(X_train_ran, y_train_ran)\\n\\n    y_pred_test_ran, y_pred_unc_test_ran = model.predict(X_test, return_std=True)\\n    y_pred_train_ran, y_pred_unc_train_ran = model.predict(X_train_ran, return_std=True)\\n    y_pred_pool_ran, y_pred_unc_pool_ran = model.predict(X[idx_pool_ran], return_std=True)\\n\\n    print(\\'PCC_test\\', pearsonr(y_test, y_pred_test_ran)[0])\\n    print(\\'R2_test\\', r2_score(y_test, y_pred_test_ran))\\n    pcc_random.append(pearsonr(y_test, y_pred_test_ran)[0])\\n    r2_random.append(r2_score(y_test, y_pred_test_ran))\\n'"
      ]
     },
     "execution_count": 11,
     "metadata": {},
     "output_type": "execute_result"
    }
   ],
   "source": [
    "n_iter = 20\n",
    "pcc_variance = []\n",
    "r2_variance = []\n",
    "rmse_variance = []\n",
    "mae_variance = []\n",
    "\n",
    "pcc_random = []\n",
    "r2_random = []\n",
    "num_training_data=[]\n",
    "\n",
    "kernel = C(1.0) * Matern(length_scale=1.0) + WhiteKernel(noise_level=1.0) + C(1.0) * DotProduct(sigma_0=1.0)\n",
    "model = GaussianProcessRegressor(kernel=kernel, n_restarts_optimizer=8, normalize_y=True)\n",
    "\n",
    "X_train_var = X_train\n",
    "X_train_ran = X_train\n",
    "y_train_var = y_train\n",
    "y_train_ran = y_train\n",
    "idx_pool_var = idx_pool\n",
    "idx_pool_ran = idx_pool\n",
    "idx_train_var = idx_train\n",
    "idx_train_ran = idx_train\n",
    "\n",
    "for i in range(n_iter):\n",
    "    print(f\"Performing iteration : {i}\")\n",
    "\n",
    "    if i != 0:\n",
    "        # find 10 data points with the highest variance\n",
    "        q_points_var = np.argpartition(y_pred_unc_pool_var, -10)[-10:]\n",
    "        # indices of those points in idx_pool\n",
    "        idx_pool_train_var = idx_pool_var[q_points_var]\n",
    "\n",
    "        idx_train_var = np.append(idx_train_var, idx_pool_train_var)\n",
    "        idx_pool_var = np.delete(idx_pool_var, q_points_var)\n",
    "        X_train_var = X[idx_train_var]\n",
    "        y_train_var = y[idx_train_var]\n",
    "\n",
    "    print(f\"Number of training data with variance: {len(idx_train_var)}\")\n",
    "    print(f\"Number of pooling data with variance: {len(idx_pool_var)}\")\n",
    "\n",
    "    num_training_data.append(len(idx_train_var))\n",
    "\n",
    "    model.fit(X_train_var, y_train_var)\n",
    "\n",
    "    y_pred_test_var, y_pred_unc_test_var = model.predict(X_test, return_std=True)\n",
    "    y_pred_train_var, y_pred_unc_train_var = model.predict(X_train_var, return_std=True)\n",
    "    y_pred_pool_var, y_pred_unc_pool_var = model.predict(X[idx_pool_var], return_std=True)\n",
    "    \n",
    "\n",
    "    print('PCC_test', pearsonr(y_test, y_pred_test_var)[0])\n",
    "    print('R2_test', r2_score(y_test, y_pred_test_var))\n",
    "    print('RMSE', np.sqrt(mean_squared_error(y_test, y_pred_test_var)))\n",
    "    print('MAE', np.mean(abs(y_test - y_pred_test_var)))\n",
    "\n",
    "    \n",
    "    pcc_variance.append(pearsonr(y_test, y_pred_test_var)[0])\n",
    "    r2_variance.append(r2_score(y_test, y_pred_test_var))\n",
    "    rmse_variance.append(np.sqrt(mean_squared_error(y_test, y_pred_test_var)))\n",
    "    mae_variance.append(np.mean(abs(y_test - y_pred_test_var)))"
   ]
  },
  {
   "cell_type": "code",
   "execution_count": null,
   "metadata": {},
   "outputs": [],
   "source": [
    "import pickle\n",
    "with open('AL_GPR.pkl', 'wb') as f:\n",
    "    pickle.dump({'train_numbs':num_training_data, 'pcc':pcc_variance,'r2':r2_variance, 'rsme': rmse_variance, 'mae': mae_variance}, f)\n",
    "    f.close()\n",
    "\n",
    "pkl_file = open('AL_GPR.pkl', 'rb')  \n",
    "test_ALGPR = pickle.load(pkl_file)"
   ]
  }
 ],
 "metadata": {
  "colab": {
   "provenance": []
  },
  "kernelspec": {
   "display_name": "Python 3 (ipykernel)",
   "language": "python",
   "name": "python3"
  },
  "language_info": {
   "codemirror_mode": {
    "name": "ipython",
    "version": 3
   },
   "file_extension": ".py",
   "mimetype": "text/x-python",
   "name": "python",
   "nbconvert_exporter": "python",
   "pygments_lexer": "ipython3",
   "version": "3.11.5"
  }
 },
 "nbformat": 4,
 "nbformat_minor": 4
}
