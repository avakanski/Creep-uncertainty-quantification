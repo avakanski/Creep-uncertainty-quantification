{
 "cells": [
  {
   "cell_type": "code",
   "execution_count": 1,
   "metadata": {
    "executionInfo": {
     "elapsed": 2641,
     "status": "ok",
     "timestamp": 1692365393968,
     "user": {
      "displayName": "Aleksandar Vakanski",
      "userId": "07675307153279708378"
     },
     "user_tz": 360
    },
    "id": "U-CCBTEbmd13",
    "tags": []
   },
   "outputs": [],
   "source": [
    "from pathlib import Path\n",
    "import pandas as pd\n",
    "import sys\n",
    "import numpy as np\n",
    "from sklearn.preprocessing import StandardScaler\n",
    "from sklearn.model_selection import train_test_split\n",
    "from sklearn.gaussian_process import GaussianProcessRegressor\n",
    "from sklearn.gaussian_process.kernels import (RBF, ConstantKernel as C,\n",
    "                                              Matern, WhiteKernel, DotProduct)\n",
    "from sklearn.metrics import pairwise_distances, mean_squared_error,r2_score, mean_absolute_percentage_error\n",
    "from sklearn.decomposition import PCA\n",
    "from scipy.stats import pearsonr\n",
    "from pathlib import Path\n",
    "from sklearn.cluster import KMeans\n",
    "import matplotlib.pyplot as plt"
   ]
  },
  {
   "cell_type": "code",
   "execution_count": 2,
   "metadata": {
    "colab": {
     "base_uri": "https://localhost:8080/",
     "height": 458
    },
    "executionInfo": {
     "elapsed": 15,
     "status": "ok",
     "timestamp": 1692365397855,
     "user": {
      "displayName": "Aleksandar Vakanski",
      "userId": "07675307153279708378"
     },
     "user_tz": 360
    },
    "id": "VkSZ6oKjmd18",
    "outputId": "5ea3ea82-ec5f-4c2f-a832-191f7bbc645e"
   },
   "outputs": [
    {
     "data": {
      "text/html": [
       "<div>\n",
       "<style scoped>\n",
       "    .dataframe tbody tr th:only-of-type {\n",
       "        vertical-align: middle;\n",
       "    }\n",
       "\n",
       "    .dataframe tbody tr th {\n",
       "        vertical-align: top;\n",
       "    }\n",
       "\n",
       "    .dataframe thead th {\n",
       "        text-align: right;\n",
       "    }\n",
       "</style>\n",
       "<table border=\"1\" class=\"dataframe\">\n",
       "  <thead>\n",
       "    <tr style=\"text-align: right;\">\n",
       "      <th></th>\n",
       "      <th>Ni</th>\n",
       "      <th>Al</th>\n",
       "      <th>Co</th>\n",
       "      <th>Cr</th>\n",
       "      <th>Mo</th>\n",
       "      <th>Re</th>\n",
       "      <th>Ru</th>\n",
       "      <th>Ta</th>\n",
       "      <th>W</th>\n",
       "      <th>Ti</th>\n",
       "      <th>Nb</th>\n",
       "      <th>T</th>\n",
       "      <th>log_stress</th>\n",
       "      <th>log_creep_life</th>\n",
       "    </tr>\n",
       "  </thead>\n",
       "  <tbody>\n",
       "    <tr>\n",
       "      <th>0</th>\n",
       "      <td>62.80</td>\n",
       "      <td>5.6</td>\n",
       "      <td>9.0</td>\n",
       "      <td>6.5</td>\n",
       "      <td>0.6</td>\n",
       "      <td>3.0</td>\n",
       "      <td>0.0</td>\n",
       "      <td>6.5</td>\n",
       "      <td>6.0</td>\n",
       "      <td>0.0</td>\n",
       "      <td>0.0</td>\n",
       "      <td>950</td>\n",
       "      <td>2.267172</td>\n",
       "      <td>3.276554</td>\n",
       "    </tr>\n",
       "    <tr>\n",
       "      <th>1</th>\n",
       "      <td>59.30</td>\n",
       "      <td>5.8</td>\n",
       "      <td>5.8</td>\n",
       "      <td>2.9</td>\n",
       "      <td>3.9</td>\n",
       "      <td>4.9</td>\n",
       "      <td>6.0</td>\n",
       "      <td>5.6</td>\n",
       "      <td>5.8</td>\n",
       "      <td>0.0</td>\n",
       "      <td>0.0</td>\n",
       "      <td>1100</td>\n",
       "      <td>2.136721</td>\n",
       "      <td>3.026370</td>\n",
       "    </tr>\n",
       "    <tr>\n",
       "      <th>2</th>\n",
       "      <td>59.80</td>\n",
       "      <td>5.6</td>\n",
       "      <td>5.6</td>\n",
       "      <td>4.6</td>\n",
       "      <td>2.4</td>\n",
       "      <td>6.4</td>\n",
       "      <td>5.0</td>\n",
       "      <td>5.6</td>\n",
       "      <td>5.0</td>\n",
       "      <td>0.0</td>\n",
       "      <td>0.0</td>\n",
       "      <td>1000</td>\n",
       "      <td>2.389166</td>\n",
       "      <td>3.009026</td>\n",
       "    </tr>\n",
       "    <tr>\n",
       "      <th>3</th>\n",
       "      <td>59.30</td>\n",
       "      <td>5.8</td>\n",
       "      <td>5.8</td>\n",
       "      <td>2.9</td>\n",
       "      <td>3.9</td>\n",
       "      <td>4.9</td>\n",
       "      <td>6.0</td>\n",
       "      <td>5.6</td>\n",
       "      <td>5.8</td>\n",
       "      <td>0.0</td>\n",
       "      <td>0.0</td>\n",
       "      <td>1000</td>\n",
       "      <td>2.389166</td>\n",
       "      <td>2.969556</td>\n",
       "    </tr>\n",
       "    <tr>\n",
       "      <th>4</th>\n",
       "      <td>61.68</td>\n",
       "      <td>6.0</td>\n",
       "      <td>9.0</td>\n",
       "      <td>3.5</td>\n",
       "      <td>1.5</td>\n",
       "      <td>4.0</td>\n",
       "      <td>0.0</td>\n",
       "      <td>8.0</td>\n",
       "      <td>6.0</td>\n",
       "      <td>0.2</td>\n",
       "      <td>0.0</td>\n",
       "      <td>1100</td>\n",
       "      <td>2.079181</td>\n",
       "      <td>2.957607</td>\n",
       "    </tr>\n",
       "    <tr>\n",
       "      <th>...</th>\n",
       "      <td>...</td>\n",
       "      <td>...</td>\n",
       "      <td>...</td>\n",
       "      <td>...</td>\n",
       "      <td>...</td>\n",
       "      <td>...</td>\n",
       "      <td>...</td>\n",
       "      <td>...</td>\n",
       "      <td>...</td>\n",
       "      <td>...</td>\n",
       "      <td>...</td>\n",
       "      <td>...</td>\n",
       "      <td>...</td>\n",
       "      <td>...</td>\n",
       "    </tr>\n",
       "    <tr>\n",
       "      <th>148</th>\n",
       "      <td>61.00</td>\n",
       "      <td>5.6</td>\n",
       "      <td>9.0</td>\n",
       "      <td>4.3</td>\n",
       "      <td>2.0</td>\n",
       "      <td>2.0</td>\n",
       "      <td>0.0</td>\n",
       "      <td>7.5</td>\n",
       "      <td>8.0</td>\n",
       "      <td>0.0</td>\n",
       "      <td>0.5</td>\n",
       "      <td>1100</td>\n",
       "      <td>2.322219</td>\n",
       "      <td>1.155336</td>\n",
       "    </tr>\n",
       "    <tr>\n",
       "      <th>149</th>\n",
       "      <td>61.00</td>\n",
       "      <td>5.6</td>\n",
       "      <td>9.0</td>\n",
       "      <td>4.3</td>\n",
       "      <td>2.0</td>\n",
       "      <td>2.0</td>\n",
       "      <td>0.0</td>\n",
       "      <td>7.5</td>\n",
       "      <td>8.0</td>\n",
       "      <td>0.0</td>\n",
       "      <td>0.5</td>\n",
       "      <td>1070</td>\n",
       "      <td>2.447158</td>\n",
       "      <td>1.089905</td>\n",
       "    </tr>\n",
       "    <tr>\n",
       "      <th>150</th>\n",
       "      <td>61.00</td>\n",
       "      <td>5.6</td>\n",
       "      <td>9.0</td>\n",
       "      <td>4.3</td>\n",
       "      <td>2.0</td>\n",
       "      <td>2.0</td>\n",
       "      <td>0.0</td>\n",
       "      <td>7.5</td>\n",
       "      <td>8.0</td>\n",
       "      <td>0.0</td>\n",
       "      <td>0.5</td>\n",
       "      <td>1100</td>\n",
       "      <td>2.352183</td>\n",
       "      <td>0.991226</td>\n",
       "    </tr>\n",
       "    <tr>\n",
       "      <th>151</th>\n",
       "      <td>61.00</td>\n",
       "      <td>5.6</td>\n",
       "      <td>9.0</td>\n",
       "      <td>4.3</td>\n",
       "      <td>2.0</td>\n",
       "      <td>2.0</td>\n",
       "      <td>0.0</td>\n",
       "      <td>7.5</td>\n",
       "      <td>8.0</td>\n",
       "      <td>0.0</td>\n",
       "      <td>0.5</td>\n",
       "      <td>1100</td>\n",
       "      <td>2.342423</td>\n",
       "      <td>0.968483</td>\n",
       "    </tr>\n",
       "    <tr>\n",
       "      <th>152</th>\n",
       "      <td>61.00</td>\n",
       "      <td>5.6</td>\n",
       "      <td>9.0</td>\n",
       "      <td>4.3</td>\n",
       "      <td>2.0</td>\n",
       "      <td>2.0</td>\n",
       "      <td>0.0</td>\n",
       "      <td>7.5</td>\n",
       "      <td>8.0</td>\n",
       "      <td>0.0</td>\n",
       "      <td>0.5</td>\n",
       "      <td>1070</td>\n",
       "      <td>2.434569</td>\n",
       "      <td>0.919078</td>\n",
       "    </tr>\n",
       "  </tbody>\n",
       "</table>\n",
       "<p>153 rows × 14 columns</p>\n",
       "</div>"
      ],
      "text/plain": [
       "        Ni   Al   Co   Cr   Mo   Re   Ru   Ta    W   Ti   Nb     T  \\\n",
       "0    62.80  5.6  9.0  6.5  0.6  3.0  0.0  6.5  6.0  0.0  0.0   950   \n",
       "1    59.30  5.8  5.8  2.9  3.9  4.9  6.0  5.6  5.8  0.0  0.0  1100   \n",
       "2    59.80  5.6  5.6  4.6  2.4  6.4  5.0  5.6  5.0  0.0  0.0  1000   \n",
       "3    59.30  5.8  5.8  2.9  3.9  4.9  6.0  5.6  5.8  0.0  0.0  1000   \n",
       "4    61.68  6.0  9.0  3.5  1.5  4.0  0.0  8.0  6.0  0.2  0.0  1100   \n",
       "..     ...  ...  ...  ...  ...  ...  ...  ...  ...  ...  ...   ...   \n",
       "148  61.00  5.6  9.0  4.3  2.0  2.0  0.0  7.5  8.0  0.0  0.5  1100   \n",
       "149  61.00  5.6  9.0  4.3  2.0  2.0  0.0  7.5  8.0  0.0  0.5  1070   \n",
       "150  61.00  5.6  9.0  4.3  2.0  2.0  0.0  7.5  8.0  0.0  0.5  1100   \n",
       "151  61.00  5.6  9.0  4.3  2.0  2.0  0.0  7.5  8.0  0.0  0.5  1100   \n",
       "152  61.00  5.6  9.0  4.3  2.0  2.0  0.0  7.5  8.0  0.0  0.5  1070   \n",
       "\n",
       "     log_stress  log_creep_life  \n",
       "0      2.267172        3.276554  \n",
       "1      2.136721        3.026370  \n",
       "2      2.389166        3.009026  \n",
       "3      2.389166        2.969556  \n",
       "4      2.079181        2.957607  \n",
       "..          ...             ...  \n",
       "148    2.322219        1.155336  \n",
       "149    2.447158        1.089905  \n",
       "150    2.352183        0.991226  \n",
       "151    2.342423        0.968483  \n",
       "152    2.434569        0.919078  \n",
       "\n",
       "[153 rows x 14 columns]"
      ]
     },
     "execution_count": 2,
     "metadata": {},
     "output_type": "execute_result"
    }
   ],
   "source": [
    "creep_df = pd.read_csv('Ni_superalloys_dataset.csv')\n",
    "creep_df"
   ]
  },
  {
   "cell_type": "code",
   "execution_count": 3,
   "metadata": {
    "executionInfo": {
     "elapsed": 25,
     "status": "ok",
     "timestamp": 1692365398086,
     "user": {
      "displayName": "Aleksandar Vakanski",
      "userId": "07675307153279708378"
     },
     "user_tz": 360
    },
    "id": "-ct7_qBnqguF"
   },
   "outputs": [],
   "source": [
    "rm_state = 123\n",
    "test_size = 0.2\n",
    "\n",
    "X, X_test, y, y_test = train_test_split(np.array(creep_df.iloc[:, 0:13]), np.array(creep_df.iloc[:,13]), shuffle=True, test_size=test_size, random_state=rm_state)"
   ]
  },
  {
   "cell_type": "code",
   "execution_count": 4,
   "metadata": {
    "colab": {
     "base_uri": "https://localhost:8080/"
    },
    "executionInfo": {
     "elapsed": 25,
     "status": "ok",
     "timestamp": 1692365398087,
     "user": {
      "displayName": "Aleksandar Vakanski",
      "userId": "07675307153279708378"
     },
     "user_tz": 360
    },
    "id": "4hxEtOZYqvjY",
    "outputId": "c782e75b-5e48-4084-8b40-87de70a85376"
   },
   "outputs": [
    {
     "name": "stdout",
     "output_type": "stream",
     "text": [
      "(122, 13)\n",
      "(31, 13)\n",
      "(122,)\n",
      "(31,)\n"
     ]
    }
   ],
   "source": [
    "print(X.shape)\n",
    "print(X_test.shape)\n",
    "print(y.shape)\n",
    "print(y_test.shape)"
   ]
  },
  {
   "cell_type": "code",
   "execution_count": 5,
   "metadata": {
    "executionInfo": {
     "elapsed": 20,
     "status": "ok",
     "timestamp": 1692365398087,
     "user": {
      "displayName": "Aleksandar Vakanski",
      "userId": "07675307153279708378"
     },
     "user_tz": 360
    },
    "id": "pn330ki8rGq5"
   },
   "outputs": [],
   "source": [
    "idx = np.arange(len(y))"
   ]
  },
  {
   "cell_type": "code",
   "execution_count": 6,
   "metadata": {
    "colab": {
     "base_uri": "https://localhost:8080/"
    },
    "executionInfo": {
     "elapsed": 20,
     "status": "ok",
     "timestamp": 1692365398088,
     "user": {
      "displayName": "Aleksandar Vakanski",
      "userId": "07675307153279708378"
     },
     "user_tz": 360
    },
    "id": "Nr-05z5VrKTW",
    "outputId": "aec7056f-69da-4306-a486-b3b9304d0db5"
   },
   "outputs": [
    {
     "data": {
      "text/plain": [
       "122"
      ]
     },
     "execution_count": 6,
     "metadata": {},
     "output_type": "execute_result"
    }
   ],
   "source": [
    "len(idx)"
   ]
  },
  {
   "cell_type": "code",
   "execution_count": 7,
   "metadata": {
    "executionInfo": {
     "elapsed": 16,
     "status": "ok",
     "timestamp": 1692365398088,
     "user": {
      "displayName": "Aleksandar Vakanski",
      "userId": "07675307153279708378"
     },
     "user_tz": 360
    },
    "id": "9VIwK8zHntoc"
   },
   "outputs": [],
   "source": [
    "train_ratio = 0.1\n",
    "\n",
    "X_train, _, y_train, _, idx_train, idx_pool = train_test_split(X, y, idx, train_size=train_ratio, shuffle=True, random_state=rm_state)"
   ]
  },
  {
   "cell_type": "code",
   "execution_count": 8,
   "metadata": {
    "colab": {
     "base_uri": "https://localhost:8080/"
    },
    "executionInfo": {
     "elapsed": 15,
     "status": "ok",
     "timestamp": 1692365398089,
     "user": {
      "displayName": "Aleksandar Vakanski",
      "userId": "07675307153279708378"
     },
     "user_tz": 360
    },
    "id": "GMNlSasUoy-U",
    "outputId": "5f13d88f-f043-483a-f570-13c2506337ee"
   },
   "outputs": [
    {
     "name": "stdout",
     "output_type": "stream",
     "text": [
      "(12, 13)\n",
      "(12,)\n"
     ]
    }
   ],
   "source": [
    "print(X_train.shape)\n",
    "print(y_train.shape)"
   ]
  },
  {
   "cell_type": "code",
   "execution_count": 9,
   "metadata": {
    "colab": {
     "base_uri": "https://localhost:8080/"
    },
    "executionInfo": {
     "elapsed": 157,
     "status": "ok",
     "timestamp": 1692365398234,
     "user": {
      "displayName": "Aleksandar Vakanski",
      "userId": "07675307153279708378"
     },
     "user_tz": 360
    },
    "id": "wghyKRXHo4-c",
    "outputId": "40d41c91-0dce-4d0d-bd99-aff8029b5b6d"
   },
   "outputs": [
    {
     "name": "stdout",
     "output_type": "stream",
     "text": [
      "(12,)\n",
      "(110,)\n"
     ]
    }
   ],
   "source": [
    "print(idx_train.shape)\n",
    "print(idx_pool.shape)"
   ]
  },
  {
   "cell_type": "code",
   "execution_count": 10,
   "metadata": {
    "colab": {
     "base_uri": "https://localhost:8080/"
    },
    "executionInfo": {
     "elapsed": 269860,
     "status": "ok",
     "timestamp": 1692365668091,
     "user": {
      "displayName": "Aleksandar Vakanski",
      "userId": "07675307153279708378"
     },
     "user_tz": 360
    },
    "id": "viRcvO1ExRP3",
    "outputId": "a874ac4f-3efc-4314-9e88-9dfc03372ea9"
   },
   "outputs": [
    {
     "name": "stdout",
     "output_type": "stream",
     "text": [
      "Performing iteration : 0\n",
      "Number of training data with variance: 12\n",
      "Number of pooling data with variance: 110\n"
     ]
    },
    {
     "name": "stderr",
     "output_type": "stream",
     "text": [
      "c:\\Users\\L\\anaconda3\\envs\\tf-gpu\\lib\\site-packages\\sklearn\\gaussian_process\\kernels.py:420: ConvergenceWarning: The optimal value found for dimension 0 of parameter k1__k2__noise_level is close to the specified lower bound 1e-05. Decreasing the bound and calling fit again may find a better value.\n",
      "  warnings.warn(\n",
      "c:\\Users\\L\\anaconda3\\envs\\tf-gpu\\lib\\site-packages\\sklearn\\gaussian_process\\kernels.py:420: ConvergenceWarning: The optimal value found for dimension 0 of parameter k2__k1__constant_value is close to the specified lower bound 1e-05. Decreasing the bound and calling fit again may find a better value.\n",
      "  warnings.warn(\n"
     ]
    },
    {
     "name": "stdout",
     "output_type": "stream",
     "text": [
      "PCC_test 0.6012646403900639\n",
      "R2_test 0.3501394088704497\n",
      "RMSE 0.2816572596811668\n",
      "MAE 0.23360257206986065\n",
      "Performing iteration : 1\n",
      "Number of training data with variance: 20\n",
      "Number of pooling data with variance: 102\n"
     ]
    },
    {
     "name": "stderr",
     "output_type": "stream",
     "text": [
      "c:\\Users\\L\\anaconda3\\envs\\tf-gpu\\lib\\site-packages\\sklearn\\gaussian_process\\kernels.py:420: ConvergenceWarning: The optimal value found for dimension 0 of parameter k1__k2__noise_level is close to the specified lower bound 1e-05. Decreasing the bound and calling fit again may find a better value.\n",
      "  warnings.warn(\n",
      "c:\\Users\\L\\anaconda3\\envs\\tf-gpu\\lib\\site-packages\\sklearn\\gaussian_process\\kernels.py:420: ConvergenceWarning: The optimal value found for dimension 0 of parameter k2__k1__constant_value is close to the specified lower bound 1e-05. Decreasing the bound and calling fit again may find a better value.\n",
      "  warnings.warn(\n"
     ]
    },
    {
     "name": "stdout",
     "output_type": "stream",
     "text": [
      "PCC_test 0.5903865932947947\n",
      "R2_test 0.2590766371358345\n",
      "RMSE 0.30074436139652044\n",
      "MAE 0.24903333301806238\n",
      "Performing iteration : 2\n",
      "Number of training data with variance: 28\n",
      "Number of pooling data with variance: 94\n"
     ]
    },
    {
     "name": "stderr",
     "output_type": "stream",
     "text": [
      "c:\\Users\\L\\anaconda3\\envs\\tf-gpu\\lib\\site-packages\\sklearn\\gaussian_process\\kernels.py:420: ConvergenceWarning: The optimal value found for dimension 0 of parameter k1__k2__noise_level is close to the specified lower bound 1e-05. Decreasing the bound and calling fit again may find a better value.\n",
      "  warnings.warn(\n",
      "c:\\Users\\L\\anaconda3\\envs\\tf-gpu\\lib\\site-packages\\sklearn\\gaussian_process\\kernels.py:420: ConvergenceWarning: The optimal value found for dimension 0 of parameter k2__k1__constant_value is close to the specified lower bound 1e-05. Decreasing the bound and calling fit again may find a better value.\n",
      "  warnings.warn(\n"
     ]
    },
    {
     "name": "stdout",
     "output_type": "stream",
     "text": [
      "PCC_test 0.5900775783160672\n",
      "R2_test 0.24614146155916627\n",
      "RMSE 0.30335822745312224\n",
      "MAE 0.25133583361974177\n",
      "Performing iteration : 3\n",
      "Number of training data with variance: 36\n",
      "Number of pooling data with variance: 86\n"
     ]
    },
    {
     "name": "stderr",
     "output_type": "stream",
     "text": [
      "c:\\Users\\L\\anaconda3\\envs\\tf-gpu\\lib\\site-packages\\sklearn\\gaussian_process\\kernels.py:420: ConvergenceWarning: The optimal value found for dimension 0 of parameter k1__k2__noise_level is close to the specified lower bound 1e-05. Decreasing the bound and calling fit again may find a better value.\n",
      "  warnings.warn(\n",
      "c:\\Users\\L\\anaconda3\\envs\\tf-gpu\\lib\\site-packages\\sklearn\\gaussian_process\\kernels.py:420: ConvergenceWarning: The optimal value found for dimension 0 of parameter k2__k1__constant_value is close to the specified lower bound 1e-05. Decreasing the bound and calling fit again may find a better value.\n",
      "  warnings.warn(\n"
     ]
    },
    {
     "name": "stdout",
     "output_type": "stream",
     "text": [
      "PCC_test 0.6060044935723822\n",
      "R2_test 0.3480214238400927\n",
      "RMSE 0.2821158661900375\n",
      "MAE 0.23629526419515937\n",
      "Performing iteration : 4\n",
      "Number of training data with variance: 44\n",
      "Number of pooling data with variance: 78\n"
     ]
    },
    {
     "name": "stderr",
     "output_type": "stream",
     "text": [
      "c:\\Users\\L\\anaconda3\\envs\\tf-gpu\\lib\\site-packages\\sklearn\\gaussian_process\\kernels.py:420: ConvergenceWarning: The optimal value found for dimension 0 of parameter k2__k1__constant_value is close to the specified lower bound 1e-05. Decreasing the bound and calling fit again may find a better value.\n",
      "  warnings.warn(\n"
     ]
    },
    {
     "name": "stdout",
     "output_type": "stream",
     "text": [
      "PCC_test 0.5960977081719245\n",
      "R2_test 0.29879078417767324\n",
      "RMSE 0.2925732773478854\n",
      "MAE 0.24888719425872818\n",
      "Performing iteration : 5\n",
      "Number of training data with variance: 52\n",
      "Number of pooling data with variance: 70\n"
     ]
    },
    {
     "name": "stderr",
     "output_type": "stream",
     "text": [
      "c:\\Users\\L\\anaconda3\\envs\\tf-gpu\\lib\\site-packages\\sklearn\\gaussian_process\\_gpr.py:629: ConvergenceWarning: lbfgs failed to converge (status=2):\n",
      "ABNORMAL_TERMINATION_IN_LNSRCH.\n",
      "\n",
      "Increase the number of iterations (max_iter) or scale the data as shown in:\n",
      "    https://scikit-learn.org/stable/modules/preprocessing.html\n",
      "  _check_optimize_result(\"lbfgs\", opt_res)\n",
      "c:\\Users\\L\\anaconda3\\envs\\tf-gpu\\lib\\site-packages\\sklearn\\gaussian_process\\kernels.py:420: ConvergenceWarning: The optimal value found for dimension 0 of parameter k1__k2__noise_level is close to the specified lower bound 1e-05. Decreasing the bound and calling fit again may find a better value.\n",
      "  warnings.warn(\n",
      "c:\\Users\\L\\anaconda3\\envs\\tf-gpu\\lib\\site-packages\\sklearn\\gaussian_process\\kernels.py:420: ConvergenceWarning: The optimal value found for dimension 0 of parameter k2__k1__constant_value is close to the specified lower bound 1e-05. Decreasing the bound and calling fit again may find a better value.\n",
      "  warnings.warn(\n",
      "c:\\Users\\L\\anaconda3\\envs\\tf-gpu\\lib\\site-packages\\sklearn\\gaussian_process\\kernels.py:420: ConvergenceWarning: The optimal value found for dimension 0 of parameter k2__k2__sigma_0 is close to the specified lower bound 1e-05. Decreasing the bound and calling fit again may find a better value.\n",
      "  warnings.warn(\n"
     ]
    },
    {
     "name": "stdout",
     "output_type": "stream",
     "text": [
      "PCC_test 0.6341052404226921\n",
      "R2_test 0.37909097546669124\n",
      "RMSE 0.27531180580076486\n",
      "MAE 0.2306244060687582\n",
      "Performing iteration : 6\n",
      "Number of training data with variance: 60\n",
      "Number of pooling data with variance: 62\n"
     ]
    },
    {
     "name": "stderr",
     "output_type": "stream",
     "text": [
      "c:\\Users\\L\\anaconda3\\envs\\tf-gpu\\lib\\site-packages\\sklearn\\gaussian_process\\kernels.py:420: ConvergenceWarning: The optimal value found for dimension 0 of parameter k2__k1__constant_value is close to the specified lower bound 1e-05. Decreasing the bound and calling fit again may find a better value.\n",
      "  warnings.warn(\n"
     ]
    },
    {
     "name": "stdout",
     "output_type": "stream",
     "text": [
      "PCC_test 0.5865656911122495\n",
      "R2_test 0.28261838945581397\n",
      "RMSE 0.2959279385515636\n",
      "MAE 0.2521248262213996\n",
      "Performing iteration : 7\n",
      "Number of training data with variance: 68\n",
      "Number of pooling data with variance: 54\n"
     ]
    },
    {
     "name": "stderr",
     "output_type": "stream",
     "text": [
      "c:\\Users\\L\\anaconda3\\envs\\tf-gpu\\lib\\site-packages\\sklearn\\gaussian_process\\kernels.py:420: ConvergenceWarning: The optimal value found for dimension 0 of parameter k2__k1__constant_value is close to the specified lower bound 1e-05. Decreasing the bound and calling fit again may find a better value.\n",
      "  warnings.warn(\n"
     ]
    },
    {
     "name": "stdout",
     "output_type": "stream",
     "text": [
      "PCC_test 0.6347974832835757\n",
      "R2_test 0.34569660569130667\n",
      "RMSE 0.2826184014557662\n",
      "MAE 0.24341334128920059\n",
      "Performing iteration : 8\n",
      "Number of training data with variance: 76\n",
      "Number of pooling data with variance: 46\n",
      "PCC_test 0.8856762576242541\n",
      "R2_test 0.7776282142300228\n",
      "RMSE 0.16475958555052872\n",
      "MAE 0.1228159680375857\n",
      "Performing iteration : 9\n",
      "Number of training data with variance: 84\n",
      "Number of pooling data with variance: 38\n"
     ]
    },
    {
     "name": "stderr",
     "output_type": "stream",
     "text": [
      "c:\\Users\\L\\anaconda3\\envs\\tf-gpu\\lib\\site-packages\\sklearn\\gaussian_process\\_gpr.py:629: ConvergenceWarning: lbfgs failed to converge (status=2):\n",
      "ABNORMAL_TERMINATION_IN_LNSRCH.\n",
      "\n",
      "Increase the number of iterations (max_iter) or scale the data as shown in:\n",
      "    https://scikit-learn.org/stable/modules/preprocessing.html\n",
      "  _check_optimize_result(\"lbfgs\", opt_res)\n"
     ]
    },
    {
     "name": "stdout",
     "output_type": "stream",
     "text": [
      "PCC_test 0.8870500623486225\n",
      "R2_test 0.7802950436644583\n",
      "RMSE 0.16376865268380458\n",
      "MAE 0.12150169373444587\n",
      "Performing iteration : 10\n",
      "Number of training data with variance: 92\n",
      "Number of pooling data with variance: 30\n"
     ]
    },
    {
     "name": "stderr",
     "output_type": "stream",
     "text": [
      "c:\\Users\\L\\anaconda3\\envs\\tf-gpu\\lib\\site-packages\\sklearn\\gaussian_process\\_gpr.py:629: ConvergenceWarning: lbfgs failed to converge (status=2):\n",
      "ABNORMAL_TERMINATION_IN_LNSRCH.\n",
      "\n",
      "Increase the number of iterations (max_iter) or scale the data as shown in:\n",
      "    https://scikit-learn.org/stable/modules/preprocessing.html\n",
      "  _check_optimize_result(\"lbfgs\", opt_res)\n"
     ]
    },
    {
     "name": "stdout",
     "output_type": "stream",
     "text": [
      "PCC_test 0.898131418677083\n",
      "R2_test 0.7984076946522185\n",
      "RMSE 0.1568728637046842\n",
      "MAE 0.11818948644300474\n",
      "Performing iteration : 11\n",
      "Number of training data with variance: 100\n",
      "Number of pooling data with variance: 22\n",
      "PCC_test 0.897670474642784\n",
      "R2_test 0.8007321091608068\n",
      "RMSE 0.15596584804198887\n",
      "MAE 0.11580165053032838\n",
      "Performing iteration : 12\n",
      "Number of training data with variance: 108\n",
      "Number of pooling data with variance: 14\n"
     ]
    },
    {
     "name": "stderr",
     "output_type": "stream",
     "text": [
      "c:\\Users\\L\\anaconda3\\envs\\tf-gpu\\lib\\site-packages\\sklearn\\gaussian_process\\_gpr.py:629: ConvergenceWarning: lbfgs failed to converge (status=2):\n",
      "ABNORMAL_TERMINATION_IN_LNSRCH.\n",
      "\n",
      "Increase the number of iterations (max_iter) or scale the data as shown in:\n",
      "    https://scikit-learn.org/stable/modules/preprocessing.html\n",
      "  _check_optimize_result(\"lbfgs\", opt_res)\n"
     ]
    },
    {
     "name": "stdout",
     "output_type": "stream",
     "text": [
      "PCC_test 0.9014338757524981\n",
      "R2_test 0.8076342696962814\n",
      "RMSE 0.15324090275295166\n",
      "MAE 0.11112980296067064\n",
      "Performing iteration : 13\n",
      "Number of training data with variance: 116\n",
      "Number of pooling data with variance: 6\n"
     ]
    },
    {
     "name": "stderr",
     "output_type": "stream",
     "text": [
      "c:\\Users\\L\\anaconda3\\envs\\tf-gpu\\lib\\site-packages\\sklearn\\gaussian_process\\_gpr.py:629: ConvergenceWarning: lbfgs failed to converge (status=2):\n",
      "ABNORMAL_TERMINATION_IN_LNSRCH.\n",
      "\n",
      "Increase the number of iterations (max_iter) or scale the data as shown in:\n",
      "    https://scikit-learn.org/stable/modules/preprocessing.html\n",
      "  _check_optimize_result(\"lbfgs\", opt_res)\n"
     ]
    },
    {
     "name": "stdout",
     "output_type": "stream",
     "text": [
      "PCC_test 0.898053571698364\n",
      "R2_test 0.8048225904608896\n",
      "RMSE 0.15435674925283474\n",
      "MAE 0.11494586097850441\n"
     ]
    },
    {
     "data": {
      "text/plain": [
       "'\\n    # random sampling\\n    if i != 0:\\n        # select 10 random data points\\n        q_points_ran = np.random.choice(np.arange(len(idx_pool_ran)), size=10)\\n        # indices of those points in idx_pool\\n        idx_pool_train_ran = idx_pool_ran[q_points_ran]\\n\\n        idx_train_ran = np.append(idx_train_ran, idx_pool_train_ran)\\n        idx_pool_ran = np.delete(idx_pool_ran, q_points_ran)\\n        X_train_ran = X[idx_train_ran]\\n        y_train_ran = y[idx_train_ran]\\n\\n    print(f\"Number of training data with random: {len(idx_train_ran)}\")\\n    print(f\"Number of pooling data with random: {len(idx_pool_ran)}\")\\n\\n    model.fit(X_train_ran, y_train_ran)\\n\\n    y_pred_test_ran, y_pred_unc_test_ran = model.predict(X_test, return_std=True)\\n    y_pred_train_ran, y_pred_unc_train_ran = model.predict(X_train_ran, return_std=True)\\n    y_pred_pool_ran, y_pred_unc_pool_ran = model.predict(X[idx_pool_ran], return_std=True)\\n\\n    print(\\'PCC_test\\', pearsonr(y_test, y_pred_test_ran)[0])\\n    print(\\'R2_test\\', r2_score(y_test, y_pred_test_ran))\\n    pcc_random.append(pearsonr(y_test, y_pred_test_ran)[0])\\n    r2_random.append(r2_score(y_test, y_pred_test_ran))\\n'"
      ]
     },
     "execution_count": 10,
     "metadata": {},
     "output_type": "execute_result"
    }
   ],
   "source": [
    "n_iter = 14\n",
    "pcc_variance = []\n",
    "r2_variance = []\n",
    "rmse_variance = []\n",
    "mae_variance = []\n",
    "\n",
    "pcc_random = []\n",
    "r2_random = []\n",
    "num_training_data=[]\n",
    "\n",
    "kernel = C(1.0) * Matern(length_scale=1.0) + WhiteKernel(noise_level=1.0) + C(1.0) * DotProduct(sigma_0=1.0)\n",
    "model = GaussianProcessRegressor(kernel=kernel, n_restarts_optimizer=8, normalize_y=True)\n",
    "\n",
    "X_train_var = X_train\n",
    "X_train_ran = X_train\n",
    "y_train_var = y_train\n",
    "y_train_ran = y_train\n",
    "idx_pool_var = idx_pool\n",
    "idx_pool_ran = idx_pool\n",
    "idx_train_var = idx_train\n",
    "idx_train_ran = idx_train\n",
    "\n",
    "for i in range(n_iter):\n",
    "    print(f\"Performing iteration : {i}\")\n",
    "\n",
    "    if i != 0:\n",
    "        # find 8 data points with the highest variance\n",
    "        q_points_var = np.argpartition(y_pred_unc_pool_var, -8)[-8:]\n",
    "        # indices of those points in idx_pool\n",
    "        idx_pool_train_var = idx_pool_var[q_points_var]\n",
    "\n",
    "        idx_train_var = np.append(idx_train_var, idx_pool_train_var)\n",
    "        idx_pool_var = np.delete(idx_pool_var, q_points_var)\n",
    "        X_train_var = X[idx_train_var]\n",
    "        y_train_var = y[idx_train_var]\n",
    "\n",
    "    print(f\"Number of training data with variance: {len(idx_train_var)}\")\n",
    "    print(f\"Number of pooling data with variance: {len(idx_pool_var)}\")\n",
    "\n",
    "    num_training_data.append(len(idx_train_var))\n",
    "\n",
    "    model.fit(X_train_var, y_train_var)\n",
    "\n",
    "    y_pred_test_var, y_pred_unc_test_var = model.predict(X_test, return_std=True)\n",
    "    y_pred_train_var, y_pred_unc_train_var = model.predict(X_train_var, return_std=True)\n",
    "    y_pred_pool_var, y_pred_unc_pool_var = model.predict(X[idx_pool_var], return_std=True)\n",
    "    \n",
    "\n",
    "    print('PCC_test', pearsonr(y_test, y_pred_test_var)[0])\n",
    "    print('R2_test', r2_score(y_test, y_pred_test_var))\n",
    "    print('RMSE', np.sqrt(mean_squared_error(y_test, y_pred_test_var)))\n",
    "    print('MAE', np.mean(abs(y_test - y_pred_test_var)))\n",
    "    \n",
    "    pcc_variance.append(pearsonr(y_test, y_pred_test_var)[0])\n",
    "    r2_variance.append(r2_score(y_test, y_pred_test_var))\n",
    "    rmse_variance.append(np.sqrt(mean_squared_error(y_test, y_pred_test_var)))\n",
    "    mae_variance.append(np.mean(abs(y_test - y_pred_test_var)))   "
   ]
  },
  {
   "cell_type": "code",
   "execution_count": 11,
   "metadata": {},
   "outputs": [],
   "source": [
    "import pickle\n",
    "with open('AL_GPR_Ni.pkl', 'wb') as f:\n",
    "    pickle.dump({'train_numbs':num_training_data, 'pcc':pcc_variance,'r2':r2_variance, 'rsme': rmse_variance, 'mae': mae_variance}, f)\n",
    "    f.close()\n",
    "\n",
    "pkl_file = open('AL_GPR_Ni.pkl', 'rb')  \n",
    "test_ALGPR = pickle.load(pkl_file)"
   ]
  }
 ],
 "metadata": {
  "colab": {
   "provenance": []
  },
  "kernelspec": {
   "display_name": "Python 3 (ipykernel)",
   "language": "python",
   "name": "python3"
  },
  "language_info": {
   "codemirror_mode": {
    "name": "ipython",
    "version": 3
   },
   "file_extension": ".py",
   "mimetype": "text/x-python",
   "name": "python",
   "nbconvert_exporter": "python",
   "pygments_lexer": "ipython3",
   "version": "3.11.5"
  }
 },
 "nbformat": 4,
 "nbformat_minor": 4
}
