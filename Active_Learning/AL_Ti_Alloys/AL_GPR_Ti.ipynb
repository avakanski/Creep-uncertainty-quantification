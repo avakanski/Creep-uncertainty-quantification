{
 "cells": [
  {
   "cell_type": "code",
   "execution_count": 1,
   "metadata": {
    "executionInfo": {
     "elapsed": 2641,
     "status": "ok",
     "timestamp": 1692365393968,
     "user": {
      "displayName": "Aleksandar Vakanski",
      "userId": "07675307153279708378"
     },
     "user_tz": 360
    },
    "id": "U-CCBTEbmd13"
   },
   "outputs": [],
   "source": [
    "from pathlib import Path\n",
    "import pandas as pd\n",
    "import sys\n",
    "import numpy as np\n",
    "from sklearn.preprocessing import StandardScaler\n",
    "from sklearn.model_selection import train_test_split\n",
    "from sklearn.gaussian_process import GaussianProcessRegressor\n",
    "from sklearn.gaussian_process.kernels import (RBF, ConstantKernel as C,\n",
    "                                              Matern, WhiteKernel, DotProduct)\n",
    "from sklearn.metrics import pairwise_distances, mean_squared_error,r2_score, mean_absolute_percentage_error\n",
    "from sklearn.decomposition import PCA\n",
    "from scipy.stats import pearsonr\n",
    "from pathlib import Path\n",
    "from sklearn.cluster import KMeans\n",
    "import matplotlib.pyplot as plt"
   ]
  },
  {
   "cell_type": "code",
   "execution_count": 2,
   "metadata": {
    "colab": {
     "base_uri": "https://localhost:8080/",
     "height": 458
    },
    "executionInfo": {
     "elapsed": 15,
     "status": "ok",
     "timestamp": 1692365397855,
     "user": {
      "displayName": "Aleksandar Vakanski",
      "userId": "07675307153279708378"
     },
     "user_tz": 360
    },
    "id": "VkSZ6oKjmd18",
    "outputId": "5ea3ea82-ec5f-4c2f-a832-191f7bbc645e"
   },
   "outputs": [
    {
     "data": {
      "text/html": [
       "<div>\n",
       "<style scoped>\n",
       "    .dataframe tbody tr th:only-of-type {\n",
       "        vertical-align: middle;\n",
       "    }\n",
       "\n",
       "    .dataframe tbody tr th {\n",
       "        vertical-align: top;\n",
       "    }\n",
       "\n",
       "    .dataframe thead th {\n",
       "        text-align: right;\n",
       "    }\n",
       "</style>\n",
       "<table border=\"1\" class=\"dataframe\">\n",
       "  <thead>\n",
       "    <tr style=\"text-align: right;\">\n",
       "      <th></th>\n",
       "      <th>Ti</th>\n",
       "      <th>Al</th>\n",
       "      <th>V</th>\n",
       "      <th>Fe</th>\n",
       "      <th>C</th>\n",
       "      <th>N</th>\n",
       "      <th>H</th>\n",
       "      <th>O</th>\n",
       "      <th>Sn</th>\n",
       "      <th>Nb</th>\n",
       "      <th>...</th>\n",
       "      <th>Cr</th>\n",
       "      <th>Solution treated temp(cel)</th>\n",
       "      <th>ST time (h)</th>\n",
       "      <th>Anneal temp (cel)</th>\n",
       "      <th>Annealing Time (hour)</th>\n",
       "      <th>Temperature of creep test (cel)</th>\n",
       "      <th>Stress (Mpa)</th>\n",
       "      <th>steady state strain rate (1/s)</th>\n",
       "      <th>Strain to rupture (%) (Efc)</th>\n",
       "      <th>creep_rupture_life</th>\n",
       "    </tr>\n",
       "  </thead>\n",
       "  <tbody>\n",
       "    <tr>\n",
       "      <th>0</th>\n",
       "      <td>87.8750</td>\n",
       "      <td>6.75</td>\n",
       "      <td>4.50</td>\n",
       "      <td>0.40</td>\n",
       "      <td>0.100</td>\n",
       "      <td>0.050</td>\n",
       "      <td>0.1250</td>\n",
       "      <td>0.20</td>\n",
       "      <td>0.00</td>\n",
       "      <td>0.0</td>\n",
       "      <td>...</td>\n",
       "      <td>0.0</td>\n",
       "      <td>690</td>\n",
       "      <td>4.0</td>\n",
       "      <td>1050</td>\n",
       "      <td>0.5</td>\n",
       "      <td>700</td>\n",
       "      <td>319.0</td>\n",
       "      <td>2.090000e-03</td>\n",
       "      <td>15.80</td>\n",
       "      <td>0.01000</td>\n",
       "    </tr>\n",
       "    <tr>\n",
       "      <th>1</th>\n",
       "      <td>87.8100</td>\n",
       "      <td>6.61</td>\n",
       "      <td>4.23</td>\n",
       "      <td>1.18</td>\n",
       "      <td>0.026</td>\n",
       "      <td>0.011</td>\n",
       "      <td>0.0030</td>\n",
       "      <td>0.13</td>\n",
       "      <td>0.00</td>\n",
       "      <td>0.0</td>\n",
       "      <td>...</td>\n",
       "      <td>0.0</td>\n",
       "      <td>0</td>\n",
       "      <td>0.0</td>\n",
       "      <td>0</td>\n",
       "      <td>0.0</td>\n",
       "      <td>600</td>\n",
       "      <td>319.0</td>\n",
       "      <td>3.240000e-06</td>\n",
       "      <td>0.00</td>\n",
       "      <td>0.01167</td>\n",
       "    </tr>\n",
       "    <tr>\n",
       "      <th>2</th>\n",
       "      <td>87.8100</td>\n",
       "      <td>6.61</td>\n",
       "      <td>4.23</td>\n",
       "      <td>1.18</td>\n",
       "      <td>0.026</td>\n",
       "      <td>0.011</td>\n",
       "      <td>0.0030</td>\n",
       "      <td>0.13</td>\n",
       "      <td>0.00</td>\n",
       "      <td>0.0</td>\n",
       "      <td>...</td>\n",
       "      <td>0.0</td>\n",
       "      <td>0</td>\n",
       "      <td>0.0</td>\n",
       "      <td>0</td>\n",
       "      <td>0.0</td>\n",
       "      <td>600</td>\n",
       "      <td>250.0</td>\n",
       "      <td>4.400000e-05</td>\n",
       "      <td>0.00</td>\n",
       "      <td>0.03050</td>\n",
       "    </tr>\n",
       "    <tr>\n",
       "      <th>3</th>\n",
       "      <td>87.8100</td>\n",
       "      <td>6.61</td>\n",
       "      <td>4.23</td>\n",
       "      <td>1.18</td>\n",
       "      <td>0.026</td>\n",
       "      <td>0.011</td>\n",
       "      <td>0.0030</td>\n",
       "      <td>0.13</td>\n",
       "      <td>0.00</td>\n",
       "      <td>0.0</td>\n",
       "      <td>...</td>\n",
       "      <td>0.0</td>\n",
       "      <td>0</td>\n",
       "      <td>0.0</td>\n",
       "      <td>0</td>\n",
       "      <td>0.0</td>\n",
       "      <td>500</td>\n",
       "      <td>520.0</td>\n",
       "      <td>4.430000e-05</td>\n",
       "      <td>0.00</td>\n",
       "      <td>0.04620</td>\n",
       "    </tr>\n",
       "    <tr>\n",
       "      <th>4</th>\n",
       "      <td>87.8100</td>\n",
       "      <td>6.61</td>\n",
       "      <td>4.23</td>\n",
       "      <td>1.18</td>\n",
       "      <td>0.026</td>\n",
       "      <td>0.011</td>\n",
       "      <td>0.0030</td>\n",
       "      <td>0.13</td>\n",
       "      <td>0.00</td>\n",
       "      <td>0.0</td>\n",
       "      <td>...</td>\n",
       "      <td>0.0</td>\n",
       "      <td>0</td>\n",
       "      <td>0.0</td>\n",
       "      <td>0</td>\n",
       "      <td>0.0</td>\n",
       "      <td>700</td>\n",
       "      <td>319.0</td>\n",
       "      <td>2.130000e-03</td>\n",
       "      <td>0.00</td>\n",
       "      <td>0.05000</td>\n",
       "    </tr>\n",
       "    <tr>\n",
       "      <th>...</th>\n",
       "      <td>...</td>\n",
       "      <td>...</td>\n",
       "      <td>...</td>\n",
       "      <td>...</td>\n",
       "      <td>...</td>\n",
       "      <td>...</td>\n",
       "      <td>...</td>\n",
       "      <td>...</td>\n",
       "      <td>...</td>\n",
       "      <td>...</td>\n",
       "      <td>...</td>\n",
       "      <td>...</td>\n",
       "      <td>...</td>\n",
       "      <td>...</td>\n",
       "      <td>...</td>\n",
       "      <td>...</td>\n",
       "      <td>...</td>\n",
       "      <td>...</td>\n",
       "      <td>...</td>\n",
       "      <td>...</td>\n",
       "      <td>...</td>\n",
       "    </tr>\n",
       "    <tr>\n",
       "      <th>172</th>\n",
       "      <td>85.9870</td>\n",
       "      <td>6.20</td>\n",
       "      <td>0.00</td>\n",
       "      <td>0.00</td>\n",
       "      <td>0.021</td>\n",
       "      <td>0.004</td>\n",
       "      <td>0.0080</td>\n",
       "      <td>0.03</td>\n",
       "      <td>1.95</td>\n",
       "      <td>0.0</td>\n",
       "      <td>...</td>\n",
       "      <td>0.0</td>\n",
       "      <td>900</td>\n",
       "      <td>1.0</td>\n",
       "      <td>580</td>\n",
       "      <td>8.0</td>\n",
       "      <td>520</td>\n",
       "      <td>310.0</td>\n",
       "      <td>1.200000e-04</td>\n",
       "      <td>0.00</td>\n",
       "      <td>1160.00000</td>\n",
       "    </tr>\n",
       "    <tr>\n",
       "      <th>173</th>\n",
       "      <td>89.0434</td>\n",
       "      <td>6.51</td>\n",
       "      <td>4.08</td>\n",
       "      <td>0.16</td>\n",
       "      <td>0.010</td>\n",
       "      <td>0.005</td>\n",
       "      <td>0.0016</td>\n",
       "      <td>0.19</td>\n",
       "      <td>0.00</td>\n",
       "      <td>0.0</td>\n",
       "      <td>...</td>\n",
       "      <td>0.0</td>\n",
       "      <td>0</td>\n",
       "      <td>0.0</td>\n",
       "      <td>940</td>\n",
       "      <td>4.0</td>\n",
       "      <td>455</td>\n",
       "      <td>379.0</td>\n",
       "      <td>9.160000e-07</td>\n",
       "      <td>0.00</td>\n",
       "      <td>1619.00000</td>\n",
       "    </tr>\n",
       "    <tr>\n",
       "      <th>174</th>\n",
       "      <td>89.0434</td>\n",
       "      <td>6.51</td>\n",
       "      <td>4.08</td>\n",
       "      <td>0.16</td>\n",
       "      <td>0.010</td>\n",
       "      <td>0.005</td>\n",
       "      <td>0.0016</td>\n",
       "      <td>0.19</td>\n",
       "      <td>0.00</td>\n",
       "      <td>0.0</td>\n",
       "      <td>...</td>\n",
       "      <td>0.0</td>\n",
       "      <td>0</td>\n",
       "      <td>0.0</td>\n",
       "      <td>1030</td>\n",
       "      <td>0.5</td>\n",
       "      <td>455</td>\n",
       "      <td>379.0</td>\n",
       "      <td>1.270000e-06</td>\n",
       "      <td>0.00</td>\n",
       "      <td>1744.00000</td>\n",
       "    </tr>\n",
       "    <tr>\n",
       "      <th>175</th>\n",
       "      <td>89.4100</td>\n",
       "      <td>6.00</td>\n",
       "      <td>4.00</td>\n",
       "      <td>0.25</td>\n",
       "      <td>0.080</td>\n",
       "      <td>0.050</td>\n",
       "      <td>0.0100</td>\n",
       "      <td>0.20</td>\n",
       "      <td>0.00</td>\n",
       "      <td>0.0</td>\n",
       "      <td>...</td>\n",
       "      <td>0.0</td>\n",
       "      <td>0</td>\n",
       "      <td>0.0</td>\n",
       "      <td>0</td>\n",
       "      <td>0.0</td>\n",
       "      <td>538</td>\n",
       "      <td>103.0</td>\n",
       "      <td>9.000000e-07</td>\n",
       "      <td>22.30</td>\n",
       "      <td>4681.00000</td>\n",
       "    </tr>\n",
       "    <tr>\n",
       "      <th>176</th>\n",
       "      <td>89.3000</td>\n",
       "      <td>6.00</td>\n",
       "      <td>4.00</td>\n",
       "      <td>0.25</td>\n",
       "      <td>0.080</td>\n",
       "      <td>0.050</td>\n",
       "      <td>0.0100</td>\n",
       "      <td>0.20</td>\n",
       "      <td>0.00</td>\n",
       "      <td>0.0</td>\n",
       "      <td>...</td>\n",
       "      <td>0.0</td>\n",
       "      <td>0</td>\n",
       "      <td>0.0</td>\n",
       "      <td>900</td>\n",
       "      <td>2.0</td>\n",
       "      <td>475</td>\n",
       "      <td>300.0</td>\n",
       "      <td>4.440000e-09</td>\n",
       "      <td>16.31</td>\n",
       "      <td>4722.22000</td>\n",
       "    </tr>\n",
       "  </tbody>\n",
       "</table>\n",
       "<p>177 rows × 24 columns</p>\n",
       "</div>"
      ],
      "text/plain": [
       "          Ti    Al     V    Fe      C      N       H     O    Sn   Nb  ...  \\\n",
       "0    87.8750  6.75  4.50  0.40  0.100  0.050  0.1250  0.20  0.00  0.0  ...   \n",
       "1    87.8100  6.61  4.23  1.18  0.026  0.011  0.0030  0.13  0.00  0.0  ...   \n",
       "2    87.8100  6.61  4.23  1.18  0.026  0.011  0.0030  0.13  0.00  0.0  ...   \n",
       "3    87.8100  6.61  4.23  1.18  0.026  0.011  0.0030  0.13  0.00  0.0  ...   \n",
       "4    87.8100  6.61  4.23  1.18  0.026  0.011  0.0030  0.13  0.00  0.0  ...   \n",
       "..       ...   ...   ...   ...    ...    ...     ...   ...   ...  ...  ...   \n",
       "172  85.9870  6.20  0.00  0.00  0.021  0.004  0.0080  0.03  1.95  0.0  ...   \n",
       "173  89.0434  6.51  4.08  0.16  0.010  0.005  0.0016  0.19  0.00  0.0  ...   \n",
       "174  89.0434  6.51  4.08  0.16  0.010  0.005  0.0016  0.19  0.00  0.0  ...   \n",
       "175  89.4100  6.00  4.00  0.25  0.080  0.050  0.0100  0.20  0.00  0.0  ...   \n",
       "176  89.3000  6.00  4.00  0.25  0.080  0.050  0.0100  0.20  0.00  0.0  ...   \n",
       "\n",
       "      Cr  Solution treated temp(cel)  ST time (h)  Anneal temp (cel)  \\\n",
       "0    0.0                         690          4.0               1050   \n",
       "1    0.0                           0          0.0                  0   \n",
       "2    0.0                           0          0.0                  0   \n",
       "3    0.0                           0          0.0                  0   \n",
       "4    0.0                           0          0.0                  0   \n",
       "..   ...                         ...          ...                ...   \n",
       "172  0.0                         900          1.0                580   \n",
       "173  0.0                           0          0.0                940   \n",
       "174  0.0                           0          0.0               1030   \n",
       "175  0.0                           0          0.0                  0   \n",
       "176  0.0                           0          0.0                900   \n",
       "\n",
       "     Annealing Time (hour)  Temperature of creep test (cel)  Stress (Mpa)  \\\n",
       "0                      0.5                              700         319.0   \n",
       "1                      0.0                              600         319.0   \n",
       "2                      0.0                              600         250.0   \n",
       "3                      0.0                              500         520.0   \n",
       "4                      0.0                              700         319.0   \n",
       "..                     ...                              ...           ...   \n",
       "172                    8.0                              520         310.0   \n",
       "173                    4.0                              455         379.0   \n",
       "174                    0.5                              455         379.0   \n",
       "175                    0.0                              538         103.0   \n",
       "176                    2.0                              475         300.0   \n",
       "\n",
       "     steady state strain rate (1/s)  Strain to rupture (%) (Efc)  \\\n",
       "0                      2.090000e-03                        15.80   \n",
       "1                      3.240000e-06                         0.00   \n",
       "2                      4.400000e-05                         0.00   \n",
       "3                      4.430000e-05                         0.00   \n",
       "4                      2.130000e-03                         0.00   \n",
       "..                              ...                          ...   \n",
       "172                    1.200000e-04                         0.00   \n",
       "173                    9.160000e-07                         0.00   \n",
       "174                    1.270000e-06                         0.00   \n",
       "175                    9.000000e-07                        22.30   \n",
       "176                    4.440000e-09                        16.31   \n",
       "\n",
       "     creep_rupture_life  \n",
       "0               0.01000  \n",
       "1               0.01167  \n",
       "2               0.03050  \n",
       "3               0.04620  \n",
       "4               0.05000  \n",
       "..                  ...  \n",
       "172          1160.00000  \n",
       "173          1619.00000  \n",
       "174          1744.00000  \n",
       "175          4681.00000  \n",
       "176          4722.22000  \n",
       "\n",
       "[177 rows x 24 columns]"
      ]
     },
     "execution_count": 2,
     "metadata": {},
     "output_type": "execute_result"
    }
   ],
   "source": [
    "creep_df = pd.read_csv('Ti_alloys_dataset.csv')\n",
    "creep_df"
   ]
  },
  {
   "cell_type": "code",
   "execution_count": 3,
   "metadata": {
    "executionInfo": {
     "elapsed": 25,
     "status": "ok",
     "timestamp": 1692365398086,
     "user": {
      "displayName": "Aleksandar Vakanski",
      "userId": "07675307153279708378"
     },
     "user_tz": 360
    },
    "id": "-ct7_qBnqguF"
   },
   "outputs": [],
   "source": [
    "rm_state = 123\n",
    "test_size = 0.6\n",
    "\n",
    "X, X_test, y, y_test = train_test_split(np.array(creep_df.iloc[:, 0:12]), np.array(creep_df.iloc[:,12]), shuffle=True, test_size=test_size, random_state=rm_state)"
   ]
  },
  {
   "cell_type": "code",
   "execution_count": 4,
   "metadata": {
    "colab": {
     "base_uri": "https://localhost:8080/"
    },
    "executionInfo": {
     "elapsed": 25,
     "status": "ok",
     "timestamp": 1692365398087,
     "user": {
      "displayName": "Aleksandar Vakanski",
      "userId": "07675307153279708378"
     },
     "user_tz": 360
    },
    "id": "4hxEtOZYqvjY",
    "outputId": "c782e75b-5e48-4084-8b40-87de70a85376"
   },
   "outputs": [
    {
     "name": "stdout",
     "output_type": "stream",
     "text": [
      "(70, 12)\n",
      "(107, 12)\n",
      "(70,)\n",
      "(107,)\n"
     ]
    }
   ],
   "source": [
    "print(X.shape)\n",
    "print(X_test.shape)\n",
    "print(y.shape)\n",
    "print(y_test.shape)"
   ]
  },
  {
   "cell_type": "code",
   "execution_count": 5,
   "metadata": {
    "executionInfo": {
     "elapsed": 20,
     "status": "ok",
     "timestamp": 1692365398087,
     "user": {
      "displayName": "Aleksandar Vakanski",
      "userId": "07675307153279708378"
     },
     "user_tz": 360
    },
    "id": "pn330ki8rGq5"
   },
   "outputs": [],
   "source": [
    "idx = np.arange(len(y))"
   ]
  },
  {
   "cell_type": "code",
   "execution_count": 6,
   "metadata": {
    "colab": {
     "base_uri": "https://localhost:8080/"
    },
    "executionInfo": {
     "elapsed": 20,
     "status": "ok",
     "timestamp": 1692365398088,
     "user": {
      "displayName": "Aleksandar Vakanski",
      "userId": "07675307153279708378"
     },
     "user_tz": 360
    },
    "id": "Nr-05z5VrKTW",
    "outputId": "aec7056f-69da-4306-a486-b3b9304d0db5"
   },
   "outputs": [
    {
     "data": {
      "text/plain": [
       "70"
      ]
     },
     "execution_count": 6,
     "metadata": {},
     "output_type": "execute_result"
    }
   ],
   "source": [
    "len(idx)"
   ]
  },
  {
   "cell_type": "code",
   "execution_count": 7,
   "metadata": {
    "executionInfo": {
     "elapsed": 16,
     "status": "ok",
     "timestamp": 1692365398088,
     "user": {
      "displayName": "Aleksandar Vakanski",
      "userId": "07675307153279708378"
     },
     "user_tz": 360
    },
    "id": "9VIwK8zHntoc"
   },
   "outputs": [],
   "source": [
    "train_ratio = 0.1\n",
    "\n",
    "X_train, _, y_train, _, idx_train, idx_pool = train_test_split(X, y, idx, train_size=train_ratio, shuffle=True, random_state=rm_state)"
   ]
  },
  {
   "cell_type": "code",
   "execution_count": 8,
   "metadata": {
    "colab": {
     "base_uri": "https://localhost:8080/"
    },
    "executionInfo": {
     "elapsed": 15,
     "status": "ok",
     "timestamp": 1692365398089,
     "user": {
      "displayName": "Aleksandar Vakanski",
      "userId": "07675307153279708378"
     },
     "user_tz": 360
    },
    "id": "GMNlSasUoy-U",
    "outputId": "5f13d88f-f043-483a-f570-13c2506337ee"
   },
   "outputs": [
    {
     "name": "stdout",
     "output_type": "stream",
     "text": [
      "(7, 12)\n",
      "(7,)\n"
     ]
    }
   ],
   "source": [
    "print(X_train.shape)\n",
    "print(y_train.shape)"
   ]
  },
  {
   "cell_type": "code",
   "execution_count": 9,
   "metadata": {
    "colab": {
     "base_uri": "https://localhost:8080/"
    },
    "executionInfo": {
     "elapsed": 157,
     "status": "ok",
     "timestamp": 1692365398234,
     "user": {
      "displayName": "Aleksandar Vakanski",
      "userId": "07675307153279708378"
     },
     "user_tz": 360
    },
    "id": "wghyKRXHo4-c",
    "outputId": "40d41c91-0dce-4d0d-bd99-aff8029b5b6d"
   },
   "outputs": [
    {
     "name": "stdout",
     "output_type": "stream",
     "text": [
      "(7,)\n",
      "(63,)\n"
     ]
    }
   ],
   "source": [
    "print(idx_train.shape)\n",
    "print(idx_pool.shape)"
   ]
  },
  {
   "cell_type": "code",
   "execution_count": 10,
   "metadata": {
    "colab": {
     "base_uri": "https://localhost:8080/"
    },
    "executionInfo": {
     "elapsed": 269860,
     "status": "ok",
     "timestamp": 1692365668091,
     "user": {
      "displayName": "Aleksandar Vakanski",
      "userId": "07675307153279708378"
     },
     "user_tz": 360
    },
    "id": "viRcvO1ExRP3",
    "outputId": "a874ac4f-3efc-4314-9e88-9dfc03372ea9"
   },
   "outputs": [
    {
     "name": "stdout",
     "output_type": "stream",
     "text": [
      "Performing iteration : 0\n",
      "Number of training data with variance: 7\n",
      "Number of pooling data with variance: 63\n",
      "PCC_test 0.43295988569976296\n",
      "R2_test -0.13647835626523075\n",
      "RMSE 0.13158296819580695\n",
      "MAE 0.08791972518829975\n",
      "Performing iteration : 1\n",
      "Number of training data with variance: 17\n",
      "Number of pooling data with variance: 53\n"
     ]
    },
    {
     "name": "stderr",
     "output_type": "stream",
     "text": [
      "c:\\Users\\longz\\anaconda3\\envs\\pytorchcpu\\Lib\\site-packages\\sklearn\\gaussian_process\\_gpr.py:629: ConvergenceWarning: lbfgs failed to converge (status=2):\n",
      "ABNORMAL_TERMINATION_IN_LNSRCH.\n",
      "\n",
      "Increase the number of iterations (max_iter) or scale the data as shown in:\n",
      "    https://scikit-learn.org/stable/modules/preprocessing.html\n",
      "  _check_optimize_result(\"lbfgs\", opt_res)\n",
      "c:\\Users\\longz\\anaconda3\\envs\\pytorchcpu\\Lib\\site-packages\\sklearn\\gaussian_process\\kernels.py:420: ConvergenceWarning: The optimal value found for dimension 0 of parameter k1__k2__noise_level is close to the specified lower bound 1e-05. Decreasing the bound and calling fit again may find a better value.\n",
      "  warnings.warn(\n",
      "c:\\Users\\longz\\anaconda3\\envs\\pytorchcpu\\Lib\\site-packages\\sklearn\\gaussian_process\\kernels.py:420: ConvergenceWarning: The optimal value found for dimension 0 of parameter k2__k1__constant_value is close to the specified lower bound 1e-05. Decreasing the bound and calling fit again may find a better value.\n",
      "  warnings.warn(\n",
      "c:\\Users\\longz\\anaconda3\\envs\\pytorchcpu\\Lib\\site-packages\\sklearn\\gaussian_process\\kernels.py:420: ConvergenceWarning: The optimal value found for dimension 0 of parameter k1__k2__noise_level is close to the specified lower bound 1e-05. Decreasing the bound and calling fit again may find a better value.\n",
      "  warnings.warn(\n",
      "c:\\Users\\longz\\anaconda3\\envs\\pytorchcpu\\Lib\\site-packages\\sklearn\\gaussian_process\\kernels.py:420: ConvergenceWarning: The optimal value found for dimension 0 of parameter k2__k1__constant_value is close to the specified lower bound 1e-05. Decreasing the bound and calling fit again may find a better value.\n",
      "  warnings.warn(\n",
      "c:\\Users\\longz\\anaconda3\\envs\\pytorchcpu\\Lib\\site-packages\\sklearn\\gaussian_process\\kernels.py:420: ConvergenceWarning: The optimal value found for dimension 0 of parameter k1__k2__noise_level is close to the specified lower bound 1e-05. Decreasing the bound and calling fit again may find a better value.\n",
      "  warnings.warn(\n",
      "c:\\Users\\longz\\anaconda3\\envs\\pytorchcpu\\Lib\\site-packages\\sklearn\\gaussian_process\\kernels.py:420: ConvergenceWarning: The optimal value found for dimension 0 of parameter k2__k1__constant_value is close to the specified lower bound 1e-05. Decreasing the bound and calling fit again may find a better value.\n",
      "  warnings.warn(\n"
     ]
    },
    {
     "name": "stdout",
     "output_type": "stream",
     "text": [
      "PCC_test 0.4068118567125323\n",
      "R2_test -0.14975192784766533\n",
      "RMSE 0.1323491533556823\n",
      "MAE 0.07822339798447446\n",
      "Performing iteration : 2\n",
      "Number of training data with variance: 27\n",
      "Number of pooling data with variance: 43\n",
      "PCC_test 0.9751555128200649\n",
      "R2_test 0.949478025146762\n",
      "RMSE 0.02774337252323331\n",
      "MAE 0.011848347845178027\n",
      "Performing iteration : 3\n",
      "Number of training data with variance: 37\n",
      "Number of pooling data with variance: 33\n"
     ]
    },
    {
     "name": "stderr",
     "output_type": "stream",
     "text": [
      "c:\\Users\\longz\\anaconda3\\envs\\pytorchcpu\\Lib\\site-packages\\sklearn\\gaussian_process\\_gpr.py:629: ConvergenceWarning: lbfgs failed to converge (status=2):\n",
      "ABNORMAL_TERMINATION_IN_LNSRCH.\n",
      "\n",
      "Increase the number of iterations (max_iter) or scale the data as shown in:\n",
      "    https://scikit-learn.org/stable/modules/preprocessing.html\n",
      "  _check_optimize_result(\"lbfgs\", opt_res)\n",
      "c:\\Users\\longz\\anaconda3\\envs\\pytorchcpu\\Lib\\site-packages\\sklearn\\gaussian_process\\kernels.py:420: ConvergenceWarning: The optimal value found for dimension 0 of parameter k1__k2__noise_level is close to the specified lower bound 1e-05. Decreasing the bound and calling fit again may find a better value.\n",
      "  warnings.warn(\n",
      "c:\\Users\\longz\\anaconda3\\envs\\pytorchcpu\\Lib\\site-packages\\sklearn\\gaussian_process\\kernels.py:420: ConvergenceWarning: The optimal value found for dimension 0 of parameter k2__k1__constant_value is close to the specified lower bound 1e-05. Decreasing the bound and calling fit again may find a better value.\n",
      "  warnings.warn(\n"
     ]
    },
    {
     "name": "stdout",
     "output_type": "stream",
     "text": [
      "PCC_test 0.9774498148752805\n",
      "R2_test 0.9551973498976587\n",
      "RMSE 0.02612588109725223\n",
      "MAE 0.007573623767897518\n",
      "Performing iteration : 4\n",
      "Number of training data with variance: 47\n",
      "Number of pooling data with variance: 23\n"
     ]
    },
    {
     "name": "stderr",
     "output_type": "stream",
     "text": [
      "c:\\Users\\longz\\anaconda3\\envs\\pytorchcpu\\Lib\\site-packages\\sklearn\\gaussian_process\\kernels.py:420: ConvergenceWarning: The optimal value found for dimension 0 of parameter k1__k2__noise_level is close to the specified lower bound 1e-05. Decreasing the bound and calling fit again may find a better value.\n",
      "  warnings.warn(\n"
     ]
    },
    {
     "name": "stdout",
     "output_type": "stream",
     "text": [
      "PCC_test 0.9773053360372027\n",
      "R2_test 0.9549174703724415\n",
      "RMSE 0.026207357473617323\n",
      "MAE 0.007602088953176315\n",
      "Performing iteration : 5\n",
      "Number of training data with variance: 57\n",
      "Number of pooling data with variance: 13\n",
      "PCC_test 0.9775031117600308\n",
      "R2_test 0.9553121726909527\n",
      "RMSE 0.02609238116868175\n",
      "MAE 0.007550596466376209\n"
     ]
    },
    {
     "name": "stderr",
     "output_type": "stream",
     "text": [
      "c:\\Users\\longz\\anaconda3\\envs\\pytorchcpu\\Lib\\site-packages\\sklearn\\gaussian_process\\kernels.py:420: ConvergenceWarning: The optimal value found for dimension 0 of parameter k1__k2__noise_level is close to the specified lower bound 1e-05. Decreasing the bound and calling fit again may find a better value.\n",
      "  warnings.warn(\n"
     ]
    },
    {
     "data": {
      "text/plain": [
       "'\\n    # random sampling\\n    if i != 0:\\n        # select 10 random data points\\n        q_points_ran = np.random.choice(np.arange(len(idx_pool_ran)), size=10)\\n        # indices of those points in idx_pool\\n        idx_pool_train_ran = idx_pool_ran[q_points_ran]\\n\\n        idx_train_ran = np.append(idx_train_ran, idx_pool_train_ran)\\n        idx_pool_ran = np.delete(idx_pool_ran, q_points_ran)\\n        X_train_ran = X[idx_train_ran]\\n        y_train_ran = y[idx_train_ran]\\n\\n    print(f\"Number of training data with random: {len(idx_train_ran)}\")\\n    print(f\"Number of pooling data with random: {len(idx_pool_ran)}\")\\n\\n    model.fit(X_train_ran, y_train_ran)\\n\\n    y_pred_test_ran, y_pred_unc_test_ran = model.predict(X_test, return_std=True)\\n    y_pred_train_ran, y_pred_unc_train_ran = model.predict(X_train_ran, return_std=True)\\n    y_pred_pool_ran, y_pred_unc_pool_ran = model.predict(X[idx_pool_ran], return_std=True)\\n\\n    print(\\'PCC_test\\', pearsonr(y_test, y_pred_test_ran)[0])\\n    print(\\'R2_test\\', r2_score(y_test, y_pred_test_ran))\\n    pcc_random.append(pearsonr(y_test, y_pred_test_ran)[0])\\n    r2_random.append(r2_score(y_test, y_pred_test_ran))\\n'"
      ]
     },
     "execution_count": 10,
     "metadata": {},
     "output_type": "execute_result"
    }
   ],
   "source": [
    "n_iter = 6\n",
    "pcc_variance = []\n",
    "r2_variance = []\n",
    "rmse_variance = []\n",
    "mae_variance = []\n",
    "\n",
    "pcc_random = []\n",
    "r2_random = []\n",
    "num_training_data=[]\n",
    "\n",
    "kernel = C(1.0) * Matern(length_scale=1.0) + WhiteKernel(noise_level=1.0) + C(1.0) * DotProduct(sigma_0=1.0)\n",
    "model = GaussianProcessRegressor(kernel=kernel, n_restarts_optimizer=8, normalize_y=True)\n",
    "\n",
    "X_train_var = X_train\n",
    "X_train_ran = X_train\n",
    "y_train_var = y_train\n",
    "y_train_ran = y_train\n",
    "idx_pool_var = idx_pool\n",
    "idx_pool_ran = idx_pool\n",
    "idx_train_var = idx_train\n",
    "idx_train_ran = idx_train\n",
    "\n",
    "for i in range(n_iter):\n",
    "    print(f\"Performing iteration : {i}\")\n",
    "\n",
    "    if i != 0:\n",
    "        # find 10 data points with the highest variance\n",
    "        q_points_var = np.argpartition(y_pred_unc_pool_var, -10)[-10:]\n",
    "        # indices of those points in idx_pool\n",
    "        idx_pool_train_var = idx_pool_var[q_points_var]\n",
    "\n",
    "        idx_train_var = np.append(idx_train_var, idx_pool_train_var)\n",
    "        idx_pool_var = np.delete(idx_pool_var, q_points_var)\n",
    "        X_train_var = X[idx_train_var]\n",
    "        y_train_var = y[idx_train_var]\n",
    "\n",
    "    print(f\"Number of training data with variance: {len(idx_train_var)}\")\n",
    "    print(f\"Number of pooling data with variance: {len(idx_pool_var)}\")\n",
    "\n",
    "    num_training_data.append(len(idx_train_var))\n",
    "\n",
    "    model.fit(X_train_var, y_train_var)\n",
    "\n",
    "    y_pred_test_var, y_pred_unc_test_var = model.predict(X_test, return_std=True)\n",
    "    y_pred_train_var, y_pred_unc_train_var = model.predict(X_train_var, return_std=True)\n",
    "    y_pred_pool_var, y_pred_unc_pool_var = model.predict(X[idx_pool_var], return_std=True)\n",
    "    \n",
    "\n",
    "    print('PCC_test', pearsonr(y_test, y_pred_test_var)[0])\n",
    "    print('R2_test', r2_score(y_test, y_pred_test_var))\n",
    "    print('RMSE', np.sqrt(mean_squared_error(y_test, y_pred_test_var)))\n",
    "    print('MAE', np.mean(abs(y_test - y_pred_test_var)))\n",
    "\n",
    "    \n",
    "    pcc_variance.append(pearsonr(y_test, y_pred_test_var)[0])\n",
    "    r2_variance.append(r2_score(y_test, y_pred_test_var))\n",
    "    rmse_variance.append(np.sqrt(mean_squared_error(y_test, y_pred_test_var)))\n",
    "    mae_variance.append(np.mean(abs(y_test - y_pred_test_var)))"
   ]
  },
  {
   "cell_type": "code",
   "execution_count": 11,
   "metadata": {},
   "outputs": [],
   "source": [
    "import pickle\n",
    "with open('AL_GPR_Ti.pkl', 'wb') as f:\n",
    "    pickle.dump({'train_numbs':num_training_data, 'pcc':pcc_variance,'r2':r2_variance, 'rsme': rmse_variance, 'mae': mae_variance}, f)\n",
    "    f.close()\n",
    "\n",
    "pkl_file = open('AL_GPR_Ti.pkl', 'rb')  \n",
    "test_ALGPR = pickle.load(pkl_file)"
   ]
  }
 ],
 "metadata": {
  "colab": {
   "provenance": []
  },
  "kernelspec": {
   "display_name": "Python 3 (ipykernel)",
   "language": "python",
   "name": "python3"
  },
  "language_info": {
   "codemirror_mode": {
    "name": "ipython",
    "version": 3
   },
   "file_extension": ".py",
   "mimetype": "text/x-python",
   "name": "python",
   "nbconvert_exporter": "python",
   "pygments_lexer": "ipython3",
   "version": "3.11.5"
  }
 },
 "nbformat": 4,
 "nbformat_minor": 4
}
